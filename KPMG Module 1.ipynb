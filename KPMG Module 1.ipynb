{
 "cells": [
  {
   "cell_type": "code",
   "execution_count": null,
   "metadata": {},
   "outputs": [],
   "source": [
    "\n"
   ]
  },
  {
   "cell_type": "code",
   "execution_count": 1,
   "metadata": {},
   "outputs": [],
   "source": [
    "#import libraries\n",
    "\n",
    "import pandas as pd\n",
    "import numpy as np\n",
    "import matplotlib.pyplot as plt\n",
    "import seaborn as sns\n",
    "%matplotlib inline\n",
    "from datetime import datetime, date"
   ]
  },
  {
   "cell_type": "code",
   "execution_count": 2,
   "metadata": {},
   "outputs": [],
   "source": [
    "#import dataset\n",
    "with pd.ExcelFile(r'C:\\Users\\Victordanok\\Desktop\\Projects\\KPMG\\KPMG_VI_New_raw_data_update_final.xlsx') as reader:\n",
    "    trans = pd.read_excel(reader, sheet_name = 'Transactions', header = 1)\n",
    "    ncl = pd.read_excel(reader, sheet_name = 'NewCustomerList', header = 1)\n",
    "    cdem = pd.read_excel(reader, sheet_name = 'CustomerDemographic', header = 1)\n",
    "    cadd = pd.read_excel(reader, sheet_name = 'CustomerAddress', header = 1)"
   ]
  },
  {
   "cell_type": "code",
   "execution_count": 3,
   "metadata": {
    "scrolled": true
   },
   "outputs": [
    {
     "name": "stdout",
     "output_type": "stream",
     "text": [
      "<class 'pandas.core.frame.DataFrame'>\n",
      "RangeIndex: 20000 entries, 0 to 19999\n",
      "Data columns (total 13 columns):\n",
      " #   Column                   Non-Null Count  Dtype         \n",
      "---  ------                   --------------  -----         \n",
      " 0   transaction_id           20000 non-null  int64         \n",
      " 1   product_id               20000 non-null  int64         \n",
      " 2   customer_id              20000 non-null  int64         \n",
      " 3   transaction_date         20000 non-null  datetime64[ns]\n",
      " 4   online_order             19640 non-null  float64       \n",
      " 5   order_status             20000 non-null  object        \n",
      " 6   brand                    19803 non-null  object        \n",
      " 7   product_line             19803 non-null  object        \n",
      " 8   product_class            19803 non-null  object        \n",
      " 9   product_size             19803 non-null  object        \n",
      " 10  list_price               20000 non-null  float64       \n",
      " 11  standard_cost            19803 non-null  float64       \n",
      " 12  product_first_sold_date  19803 non-null  float64       \n",
      "dtypes: datetime64[ns](1), float64(4), int64(3), object(5)\n",
      "memory usage: 1.6+ MB\n"
     ]
    }
   ],
   "source": [
    "trans.info()"
   ]
  },
  {
   "cell_type": "code",
   "execution_count": 4,
   "metadata": {},
   "outputs": [
    {
     "data": {
      "text/plain": [
       "3494"
      ]
     },
     "execution_count": 4,
     "metadata": {},
     "output_type": "execute_result"
    }
   ],
   "source": [
    "trans.customer_id.nunique()"
   ]
  },
  {
   "cell_type": "code",
   "execution_count": 5,
   "metadata": {},
   "outputs": [
    {
     "name": "stdout",
     "output_type": "stream",
     "text": [
      "<class 'pandas.core.frame.DataFrame'>\n",
      "RangeIndex: 4000 entries, 0 to 3999\n",
      "Data columns (total 13 columns):\n",
      " #   Column                               Non-Null Count  Dtype         \n",
      "---  ------                               --------------  -----         \n",
      " 0   customer_id                          4000 non-null   int64         \n",
      " 1   first_name                           4000 non-null   object        \n",
      " 2   last_name                            3875 non-null   object        \n",
      " 3   gender                               4000 non-null   object        \n",
      " 4   past_3_years_bike_related_purchases  4000 non-null   int64         \n",
      " 5   DOB                                  3913 non-null   datetime64[ns]\n",
      " 6   job_title                            3494 non-null   object        \n",
      " 7   job_industry_category                3344 non-null   object        \n",
      " 8   wealth_segment                       4000 non-null   object        \n",
      " 9   deceased_indicator                   4000 non-null   object        \n",
      " 10  default                              3698 non-null   object        \n",
      " 11  owns_car                             4000 non-null   object        \n",
      " 12  tenure                               3913 non-null   float64       \n",
      "dtypes: datetime64[ns](1), float64(1), int64(2), object(9)\n",
      "memory usage: 265.7+ KB\n"
     ]
    }
   ],
   "source": [
    "cdem.info()"
   ]
  },
  {
   "cell_type": "code",
   "execution_count": 6,
   "metadata": {},
   "outputs": [
    {
     "name": "stdout",
     "output_type": "stream",
     "text": [
      "<class 'pandas.core.frame.DataFrame'>\n",
      "RangeIndex: 3999 entries, 0 to 3998\n",
      "Data columns (total 6 columns):\n",
      " #   Column              Non-Null Count  Dtype \n",
      "---  ------              --------------  ----- \n",
      " 0   customer_id         3999 non-null   int64 \n",
      " 1   address             3999 non-null   object\n",
      " 2   postcode            3999 non-null   int64 \n",
      " 3   state               3999 non-null   object\n",
      " 4   country             3999 non-null   object\n",
      " 5   property_valuation  3999 non-null   int64 \n",
      "dtypes: int64(3), object(3)\n",
      "memory usage: 140.7+ KB\n"
     ]
    }
   ],
   "source": [
    "cadd.info()"
   ]
  },
  {
   "cell_type": "code",
   "execution_count": 7,
   "metadata": {},
   "outputs": [
    {
     "data": {
      "text/plain": [
       "3494"
      ]
     },
     "execution_count": 7,
     "metadata": {},
     "output_type": "execute_result"
    }
   ],
   "source": [
    "trans.customer_id.nunique()"
   ]
  },
  {
   "cell_type": "code",
   "execution_count": 8,
   "metadata": {},
   "outputs": [
    {
     "data": {
      "text/plain": [
       "4000"
      ]
     },
     "execution_count": 8,
     "metadata": {},
     "output_type": "execute_result"
    }
   ],
   "source": [
    "cdem.customer_id.nunique()"
   ]
  },
  {
   "cell_type": "code",
   "execution_count": 9,
   "metadata": {},
   "outputs": [
    {
     "data": {
      "text/plain": [
       "3999"
      ]
     },
     "execution_count": 9,
     "metadata": {},
     "output_type": "execute_result"
    }
   ],
   "source": [
    "cadd.customer_id.nunique()"
   ]
  },
  {
   "cell_type": "markdown",
   "metadata": {},
   "source": [
    "### Merging the Datasets"
   ]
  },
  {
   "cell_type": "code",
   "execution_count": 10,
   "metadata": {},
   "outputs": [],
   "source": [
    "add_dem = pd.merge(cdem, cadd, on = 'customer_id', how = 'left')"
   ]
  },
  {
   "cell_type": "code",
   "execution_count": 11,
   "metadata": {},
   "outputs": [],
   "source": [
    "customers = pd.merge(add_dem, trans, on = 'customer_id', how = 'left')"
   ]
  },
  {
   "cell_type": "code",
   "execution_count": 12,
   "metadata": {
    "scrolled": true
   },
   "outputs": [
    {
     "name": "stdout",
     "output_type": "stream",
     "text": [
      "<class 'pandas.core.frame.DataFrame'>\n",
      "Int64Index: 20504 entries, 0 to 20503\n",
      "Data columns (total 30 columns):\n",
      " #   Column                               Non-Null Count  Dtype         \n",
      "---  ------                               --------------  -----         \n",
      " 0   customer_id                          20504 non-null  int64         \n",
      " 1   first_name                           20504 non-null  object        \n",
      " 2   last_name                            19849 non-null  object        \n",
      " 3   gender                               20504 non-null  object        \n",
      " 4   past_3_years_bike_related_purchases  20504 non-null  int64         \n",
      " 5   DOB                                  20047 non-null  datetime64[ns]\n",
      " 6   job_title                            18027 non-null  object        \n",
      " 7   job_industry_category                17180 non-null  object        \n",
      " 8   wealth_segment                       20504 non-null  object        \n",
      " 9   deceased_indicator                   20504 non-null  object        \n",
      " 10  default                              19005 non-null  object        \n",
      " 11  owns_car                             20504 non-null  object        \n",
      " 12  tenure                               20047 non-null  float64       \n",
      " 13  address                              20475 non-null  object        \n",
      " 14  postcode                             20475 non-null  float64       \n",
      " 15  state                                20475 non-null  object        \n",
      " 16  country                              20475 non-null  object        \n",
      " 17  property_valuation                   20475 non-null  float64       \n",
      " 18  transaction_id                       19997 non-null  float64       \n",
      " 19  product_id                           19997 non-null  float64       \n",
      " 20  transaction_date                     19997 non-null  datetime64[ns]\n",
      " 21  online_order                         19637 non-null  float64       \n",
      " 22  order_status                         19997 non-null  object        \n",
      " 23  brand                                19800 non-null  object        \n",
      " 24  product_line                         19800 non-null  object        \n",
      " 25  product_class                        19800 non-null  object        \n",
      " 26  product_size                         19800 non-null  object        \n",
      " 27  list_price                           19997 non-null  float64       \n",
      " 28  standard_cost                        19800 non-null  float64       \n",
      " 29  product_first_sold_date              19800 non-null  float64       \n",
      "dtypes: datetime64[ns](2), float64(9), int64(2), object(17)\n",
      "memory usage: 3.5+ MB\n"
     ]
    }
   ],
   "source": [
    "customers.info()"
   ]
  },
  {
   "cell_type": "code",
   "execution_count": 13,
   "metadata": {},
   "outputs": [],
   "source": [
    "#Create an age column for the dataset\n",
    "\n",
    "import datetime as dt\n",
    "today = dt.datetime.today().year #current year\n",
    "customers['age'] = today - customers.DOB.dt.year"
   ]
  },
  {
   "cell_type": "code",
   "execution_count": 14,
   "metadata": {},
   "outputs": [
    {
     "name": "stdout",
     "output_type": "stream",
     "text": [
      "<class 'pandas.core.frame.DataFrame'>\n",
      "Int64Index: 20504 entries, 0 to 20503\n",
      "Data columns (total 31 columns):\n",
      " #   Column                               Non-Null Count  Dtype         \n",
      "---  ------                               --------------  -----         \n",
      " 0   customer_id                          20504 non-null  int64         \n",
      " 1   first_name                           20504 non-null  object        \n",
      " 2   last_name                            19849 non-null  object        \n",
      " 3   gender                               20504 non-null  object        \n",
      " 4   past_3_years_bike_related_purchases  20504 non-null  int64         \n",
      " 5   DOB                                  20047 non-null  datetime64[ns]\n",
      " 6   job_title                            18027 non-null  object        \n",
      " 7   job_industry_category                17180 non-null  object        \n",
      " 8   wealth_segment                       20504 non-null  object        \n",
      " 9   deceased_indicator                   20504 non-null  object        \n",
      " 10  default                              19005 non-null  object        \n",
      " 11  owns_car                             20504 non-null  object        \n",
      " 12  tenure                               20047 non-null  float64       \n",
      " 13  address                              20475 non-null  object        \n",
      " 14  postcode                             20475 non-null  float64       \n",
      " 15  state                                20475 non-null  object        \n",
      " 16  country                              20475 non-null  object        \n",
      " 17  property_valuation                   20475 non-null  float64       \n",
      " 18  transaction_id                       19997 non-null  float64       \n",
      " 19  product_id                           19997 non-null  float64       \n",
      " 20  transaction_date                     19997 non-null  datetime64[ns]\n",
      " 21  online_order                         19637 non-null  float64       \n",
      " 22  order_status                         19997 non-null  object        \n",
      " 23  brand                                19800 non-null  object        \n",
      " 24  product_line                         19800 non-null  object        \n",
      " 25  product_class                        19800 non-null  object        \n",
      " 26  product_size                         19800 non-null  object        \n",
      " 27  list_price                           19997 non-null  float64       \n",
      " 28  standard_cost                        19800 non-null  float64       \n",
      " 29  product_first_sold_date              19800 non-null  float64       \n",
      " 30  age                                  20047 non-null  float64       \n",
      "dtypes: datetime64[ns](2), float64(10), int64(2), object(17)\n",
      "memory usage: 3.7+ MB\n"
     ]
    }
   ],
   "source": [
    "customers.info()"
   ]
  },
  {
   "cell_type": "markdown",
   "metadata": {},
   "source": [
    "### Exploratory data analysis"
   ]
  },
  {
   "cell_type": "code",
   "execution_count": 15,
   "metadata": {},
   "outputs": [
    {
     "data": {
      "text/plain": [
       "<matplotlib.axes._subplots.AxesSubplot at 0x1458f070>"
      ]
     },
     "execution_count": 15,
     "metadata": {},
     "output_type": "execute_result"
    },
    {
     "data": {
      "image/png": "[encoded data removed]",
      "text/plain": [
       "<Figure size 432x288 with 1 Axes>"
      ]
     },
     "metadata": {
      "needs_background": "light"
     },
     "output_type": "display_data"
    }
   ],
   "source": [
    "customers.age.hist()"
   ]
  },
  {
   "cell_type": "code",
   "execution_count": 16,
   "metadata": {},
   "outputs": [
    {
     "data": {
      "text/plain": [
       "<matplotlib.axes._subplots.AxesSubplot at 0x142fa688>"
      ]
     },
     "execution_count": 16,
     "metadata": {},
     "output_type": "execute_result"
    },
    {
     "data": {
      "image/png": "[encoded data removed]",
      "text/plain": [
       "<Figure size 432x288 with 1 Axes>"
      ]
     },
     "metadata": {},
     "output_type": "display_data"
    }
   ],
   "source": [
    "sns.set_style('darkgrid')\n",
    "sns.barplot(data= customers, y = customers.gender.unique(), x = customers.gender.value_counts())"
   ]
  },
  {
   "cell_type": "code",
   "execution_count": 17,
   "metadata": {},
   "outputs": [
    {
     "data": {
      "text/plain": [
       "<matplotlib.axes._subplots.AxesSubplot at 0x14326df0>"
      ]
     },
     "execution_count": 17,
     "metadata": {},
     "output_type": "execute_result"
    },
    {
     "data": {
      "image/png": "[encoded data removed]",
      "text/plain": [
       "<Figure size 432x288 with 1 Axes>"
      ]
     },
     "metadata": {},
     "output_type": "display_data"
    }
   ],
   "source": [
    "sns.set_style('darkgrid')\n",
    "sns.barplot(data= customers, x = customers.wealth_segment.unique(), y = customers.wealth_segment.value_counts())"
   ]
  },
  {
   "cell_type": "code",
   "execution_count": 18,
   "metadata": {},
   "outputs": [
    {
     "data": {
      "text/plain": [
       "<matplotlib.axes._subplots.AxesSubplot at 0x14350880>"
      ]
     },
     "execution_count": 18,
     "metadata": {},
     "output_type": "execute_result"
    },
    {
     "data": {
      "image/png": "[encoded data removed]",
      "text/plain": [
       "<Figure size 432x288 with 1 Axes>"
      ]
     },
     "metadata": {},
     "output_type": "display_data"
    }
   ],
   "source": [
    "sns.set_style('darkgrid')\n",
    "sns.barplot(data= customers, x = customers.deceased_indicator.unique(), y = customers.deceased_indicator.value_counts())"
   ]
  },
  {
   "cell_type": "code",
   "execution_count": 19,
   "metadata": {
    "scrolled": true
   },
   "outputs": [
    {
     "data": {
      "text/plain": [
       "<matplotlib.axes._subplots.AxesSubplot at 0x143729e8>"
      ]
     },
     "execution_count": 19,
     "metadata": {},
     "output_type": "execute_result"
    },
    {
     "data": {
      "image/png": "[encoded data removed]",
      "text/plain": [
       "<Figure size 432x288 with 1 Axes>"
      ]
     },
     "metadata": {},
     "output_type": "display_data"
    }
   ],
   "source": [
    "customers.job_industry_category.value_counts().plot.barh()"
   ]
  },
  {
   "cell_type": "code",
   "execution_count": 20,
   "metadata": {},
   "outputs": [
    {
     "data": {
      "text/plain": [
       "<matplotlib.axes._subplots.AxesSubplot at 0x143a7868>"
      ]
     },
     "execution_count": 20,
     "metadata": {},
     "output_type": "execute_result"
    },
    {
     "data": {
      "image/png": "[encoded data removed]",
      "text/plain": [
       "<Figure size 432x288 with 1 Axes>"
      ]
     },
     "metadata": {},
     "output_type": "display_data"
    }
   ],
   "source": [
    "sns.barplot(data= customers, x = customers.owns_car.unique(), y = customers.owns_car.value_counts())"
   ]
  },
  {
   "cell_type": "code",
   "execution_count": 21,
   "metadata": {},
   "outputs": [
    {
     "data": {
      "text/plain": [
       "<matplotlib.axes._subplots.AxesSubplot at 0xf73e08>"
      ]
     },
     "execution_count": 21,
     "metadata": {},
     "output_type": "execute_result"
    },
    {
     "data": {
      "image/png": "[encoded data removed]",
      "text/plain": [
       "<Figure size 432x288 with 1 Axes>"
      ]
     },
     "metadata": {},
     "output_type": "display_data"
    }
   ],
   "source": [
    "customers.state.value_counts().plot.barh()"
   ]
  },
  {
   "cell_type": "code",
   "execution_count": 22,
   "metadata": {},
   "outputs": [
    {
     "data": {
      "text/plain": [
       "<matplotlib.axes._subplots.AxesSubplot at 0xf9d688>"
      ]
     },
     "execution_count": 22,
     "metadata": {},
     "output_type": "execute_result"
    },
    {
     "data": {
      "image/png": "[encoded data removed]",
      "text/plain": [
       "<Figure size 432x288 with 1 Axes>"
      ]
     },
     "metadata": {},
     "output_type": "display_data"
    }
   ],
   "source": [
    "customers.property_valuation.value_counts().sort_index().plot.barh()"
   ]
  },
  {
   "cell_type": "code",
   "execution_count": 23,
   "metadata": {},
   "outputs": [
    {
     "data": {
      "text/plain": [
       "<matplotlib.axes._subplots.AxesSubplot at 0x145a1c88>"
      ]
     },
     "execution_count": 23,
     "metadata": {},
     "output_type": "execute_result"
    },
    {
     "data": {
      "image/png": "[encoded data removed]",
      "text/plain": [
       "<Figure size 432x288 with 1 Axes>"
      ]
     },
     "metadata": {},
     "output_type": "display_data"
    }
   ],
   "source": [
    "customers.brand.value_counts().plot.barh()"
   ]
  },
  {
   "cell_type": "code",
   "execution_count": 24,
   "metadata": {},
   "outputs": [
    {
     "data": {
      "text/plain": [
       "<matplotlib.axes._subplots.AxesSubplot at 0x145a8778>"
      ]
     },
     "execution_count": 24,
     "metadata": {},
     "output_type": "execute_result"
    },
    {
     "data": {
      "image/png": "[encoded data removed]",
      "text/plain": [
       "<Figure size 432x288 with 1 Axes>"
      ]
     },
     "metadata": {},
     "output_type": "display_data"
    }
   ],
   "source": [
    "customers.product_class.value_counts().plot.barh()"
   ]
  },
  {
   "cell_type": "code",
   "execution_count": 25,
   "metadata": {},
   "outputs": [
    {
     "data": {
      "text/plain": [
       "<matplotlib.axes._subplots.AxesSubplot at 0x145a8070>"
      ]
     },
     "execution_count": 25,
     "metadata": {},
     "output_type": "execute_result"
    },
    {
     "data": {
      "image/png": "[encoded data removed]",
      "text/plain": [
       "<Figure size 432x288 with 1 Axes>"
      ]
     },
     "metadata": {},
     "output_type": "display_data"
    }
   ],
   "source": [
    "customers.product_line.value_counts().plot.barh()"
   ]
  },
  {
   "cell_type": "code",
   "execution_count": 26,
   "metadata": {},
   "outputs": [
    {
     "data": {
      "text/plain": [
       "<matplotlib.axes._subplots.AxesSubplot at 0x16ff4f0>"
      ]
     },
     "execution_count": 26,
     "metadata": {},
     "output_type": "execute_result"
    },
    {
     "data": {
      "image/png": "[encoded data removed]",
      "text/plain": [
       "<Figure size 432x288 with 1 Axes>"
      ]
     },
     "metadata": {},
     "output_type": "display_data"
    }
   ],
   "source": [
    "customers.product_size.value_counts().plot.barh()"
   ]
  },
  {
   "cell_type": "code",
   "execution_count": 27,
   "metadata": {},
   "outputs": [
    {
     "data": {
      "text/plain": [
       "<matplotlib.axes._subplots.AxesSubplot at 0x17625c8>"
      ]
     },
     "execution_count": 27,
     "metadata": {},
     "output_type": "execute_result"
    },
    {
     "data": {
      "image/png": "[encoded data removed]",
      "text/plain": [
       "<Figure size 432x288 with 1 Axes>"
      ]
     },
     "metadata": {},
     "output_type": "display_data"
    }
   ],
   "source": [
    "customers.tenure.value_counts().sort_index().plot.barh()"
   ]
  },
  {
   "cell_type": "code",
   "execution_count": 28,
   "metadata": {},
   "outputs": [
    {
     "data": {
      "text/plain": [
       "<matplotlib.axes._subplots.AxesSubplot at 0x176bc28>"
      ]
     },
     "execution_count": 28,
     "metadata": {},
     "output_type": "execute_result"
    },
    {
     "data": {
      "image/png": "[encoded data removed]",
      "text/plain": [
       "<Figure size 432x288 with 1 Axes>"
      ]
     },
     "metadata": {},
     "output_type": "display_data"
    }
   ],
   "source": [
    "sns.set_style('darkgrid')\n",
    "sns.boxplot(data = customers, x = customers.list_price)"
   ]
  },
  {
   "cell_type": "code",
   "execution_count": 29,
   "metadata": {},
   "outputs": [
    {
     "data": {
      "text/plain": [
       "<matplotlib.axes._subplots.AxesSubplot at 0xf96d30>"
      ]
     },
     "execution_count": 29,
     "metadata": {},
     "output_type": "execute_result"
    },
    {
     "data": {
      "image/png": "[encoded data removed]",
      "text/plain": [
       "<Figure size 432x288 with 1 Axes>"
      ]
     },
     "metadata": {},
     "output_type": "display_data"
    }
   ],
   "source": [
    "sns.boxplot(data = customers, x = customers.standard_cost)"
   ]
  },
  {
   "cell_type": "code",
   "execution_count": 30,
   "metadata": {},
   "outputs": [
    {
     "data": {
      "text/plain": [
       "<matplotlib.axes._subplots.AxesSubplot at 0x14350ca0>"
      ]
     },
     "execution_count": 30,
     "metadata": {},
     "output_type": "execute_result"
    },
    {
     "data": {
      "image/png": "[encoded data removed]",
      "text/plain": [
       "<Figure size 432x288 with 1 Axes>"
      ]
     },
     "metadata": {},
     "output_type": "display_data"
    }
   ],
   "source": [
    "sns.set_style('darkgrid')\n",
    "sns.scatterplot(data = customers, x = 'standard_cost', y = 'list_price', hue = 'online_order', style ='order_status')"
   ]
  },
  {
   "cell_type": "code",
   "execution_count": 31,
   "metadata": {},
   "outputs": [
    {
     "data": {
      "text/plain": [
       "<matplotlib.axes._subplots.AxesSubplot at 0x17db958>"
      ]
     },
     "execution_count": 31,
     "metadata": {},
     "output_type": "execute_result"
    },
    {
     "data": {
      "image/png": "[encoded data removed]",
      "text/plain": [
       "<Figure size 432x288 with 1 Axes>"
      ]
     },
     "metadata": {},
     "output_type": "display_data"
    }
   ],
   "source": [
    "sns.set_style('darkgrid')\n",
    "sns.scatterplot(data = customers, x = 'standard_cost', y = 'list_price', hue = 'gender', style ='owns_car')"
   ]
  },
  {
   "cell_type": "code",
   "execution_count": 32,
   "metadata": {},
   "outputs": [
    {
     "data": {
      "text/plain": [
       "<matplotlib.axes._subplots.AxesSubplot at 0x14a90fe8>"
      ]
     },
     "execution_count": 32,
     "metadata": {},
     "output_type": "execute_result"
    },
    {
     "data": {
      "image/png": "[encoded data removed]",
      "text/plain": [
       "<Figure size 432x288 with 1 Axes>"
      ]
     },
     "metadata": {},
     "output_type": "display_data"
    }
   ],
   "source": [
    "sns.set_style('darkgrid')\n",
    "sns.scatterplot(data = customers, x = 'standard_cost', y = 'list_price', hue = 'wealth_segment', style ='state')"
   ]
  },
  {
   "cell_type": "code",
   "execution_count": null,
   "metadata": {},
   "outputs": [],
   "source": []
  },
  {
   "cell_type": "code",
   "execution_count": 33,
   "metadata": {},
   "outputs": [
    {
     "data": {
      "text/plain": [
       "<matplotlib.axes._subplots.AxesSubplot at 0x14a54910>"
      ]
     },
     "execution_count": 33,
     "metadata": {},
     "output_type": "execute_result"
    },
    {
     "data": {
      "image/png": "[encoded data removed]",
      "text/plain": [
       "<Figure size 432x288 with 1 Axes>"
      ]
     },
     "metadata": {},
     "output_type": "display_data"
    }
   ],
   "source": [
    "sns.set_style('darkgrid')\n",
    "sns.boxplot(data = customers, x = customers.age)"
   ]
  },
  {
   "cell_type": "code",
   "execution_count": null,
   "metadata": {},
   "outputs": [],
   "source": []
  },
  {
   "cell_type": "code",
   "execution_count": null,
   "metadata": {},
   "outputs": [],
   "source": []
  },
  {
   "cell_type": "code",
   "execution_count": 34,
   "metadata": {},
   "outputs": [
    {
     "data": {
      "text/plain": [
       "array(['OHM Cycles', 'Solex', 'Trek Bicycles', 'Norco Bicycles',\n",
       "       'Giant Bicycles', 'WeareA2B', nan], dtype=object)"
      ]
     },
     "execution_count": 34,
     "metadata": {},
     "output_type": "execute_result"
    }
   ],
   "source": [
    "customers.brand.unique()"
   ]
  },
  {
   "cell_type": "markdown",
   "metadata": {},
   "source": [
    "### Cleaning the customers dataset"
   ]
  },
  {
   "cell_type": "code",
   "execution_count": 35,
   "metadata": {},
   "outputs": [
    {
     "data": {
      "text/plain": [
       "0"
      ]
     },
     "execution_count": 35,
     "metadata": {},
     "output_type": "execute_result"
    }
   ],
   "source": [
    "customers.duplicated().sum()"
   ]
  },
  {
   "cell_type": "code",
   "execution_count": 36,
   "metadata": {},
   "outputs": [
    {
     "data": {
      "text/html": [
       "<div>\n",
       "<style scoped>\n",
       "    .dataframe tbody tr th:only-of-type {\n",
       "        vertical-align: middle;\n",
       "    }\n",
       "\n",
       "    .dataframe tbody tr th {\n",
       "        vertical-align: top;\n",
       "    }\n",
       "\n",
       "    .dataframe thead th {\n",
       "        text-align: right;\n",
       "    }\n",
       "</style>\n",
       "<table border=\"1\" class=\"dataframe\">\n",
       "  <thead>\n",
       "    <tr style=\"text-align: right;\">\n",
       "      <th></th>\n",
       "      <th>customer_id</th>\n",
       "      <th>first_name</th>\n",
       "      <th>last_name</th>\n",
       "      <th>gender</th>\n",
       "      <th>past_3_years_bike_related_purchases</th>\n",
       "      <th>DOB</th>\n",
       "      <th>job_title</th>\n",
       "      <th>job_industry_category</th>\n",
       "      <th>wealth_segment</th>\n",
       "      <th>deceased_indicator</th>\n",
       "      <th>...</th>\n",
       "      <th>online_order</th>\n",
       "      <th>order_status</th>\n",
       "      <th>brand</th>\n",
       "      <th>product_line</th>\n",
       "      <th>product_class</th>\n",
       "      <th>product_size</th>\n",
       "      <th>list_price</th>\n",
       "      <th>standard_cost</th>\n",
       "      <th>product_first_sold_date</th>\n",
       "      <th>age</th>\n",
       "    </tr>\n",
       "  </thead>\n",
       "  <tbody>\n",
       "    <tr>\n",
       "      <th>200</th>\n",
       "      <td>34</td>\n",
       "      <td>Jephthah</td>\n",
       "      <td>Bachmann</td>\n",
       "      <td>U</td>\n",
       "      <td>59</td>\n",
       "      <td>1843-12-21</td>\n",
       "      <td>Legal Assistant</td>\n",
       "      <td>IT</td>\n",
       "      <td>Affluent Customer</td>\n",
       "      <td>N</td>\n",
       "      <td>...</td>\n",
       "      <td>1.0</td>\n",
       "      <td>Approved</td>\n",
       "      <td>Solex</td>\n",
       "      <td>Road</td>\n",
       "      <td>medium</td>\n",
       "      <td>small</td>\n",
       "      <td>1703.52</td>\n",
       "      <td>1516.13</td>\n",
       "      <td>40649.0</td>\n",
       "      <td>178.0</td>\n",
       "    </tr>\n",
       "    <tr>\n",
       "      <th>201</th>\n",
       "      <td>34</td>\n",
       "      <td>Jephthah</td>\n",
       "      <td>Bachmann</td>\n",
       "      <td>U</td>\n",
       "      <td>59</td>\n",
       "      <td>1843-12-21</td>\n",
       "      <td>Legal Assistant</td>\n",
       "      <td>IT</td>\n",
       "      <td>Affluent Customer</td>\n",
       "      <td>N</td>\n",
       "      <td>...</td>\n",
       "      <td>0.0</td>\n",
       "      <td>Approved</td>\n",
       "      <td>Norco Bicycles</td>\n",
       "      <td>Standard</td>\n",
       "      <td>low</td>\n",
       "      <td>medium</td>\n",
       "      <td>958.74</td>\n",
       "      <td>748.90</td>\n",
       "      <td>38693.0</td>\n",
       "      <td>178.0</td>\n",
       "    </tr>\n",
       "    <tr>\n",
       "      <th>202</th>\n",
       "      <td>34</td>\n",
       "      <td>Jephthah</td>\n",
       "      <td>Bachmann</td>\n",
       "      <td>U</td>\n",
       "      <td>59</td>\n",
       "      <td>1843-12-21</td>\n",
       "      <td>Legal Assistant</td>\n",
       "      <td>IT</td>\n",
       "      <td>Affluent Customer</td>\n",
       "      <td>N</td>\n",
       "      <td>...</td>\n",
       "      <td>0.0</td>\n",
       "      <td>Approved</td>\n",
       "      <td>Solex</td>\n",
       "      <td>Touring</td>\n",
       "      <td>medium</td>\n",
       "      <td>large</td>\n",
       "      <td>2083.94</td>\n",
       "      <td>675.03</td>\n",
       "      <td>41533.0</td>\n",
       "      <td>178.0</td>\n",
       "    </tr>\n",
       "    <tr>\n",
       "      <th>203</th>\n",
       "      <td>34</td>\n",
       "      <td>Jephthah</td>\n",
       "      <td>Bachmann</td>\n",
       "      <td>U</td>\n",
       "      <td>59</td>\n",
       "      <td>1843-12-21</td>\n",
       "      <td>Legal Assistant</td>\n",
       "      <td>IT</td>\n",
       "      <td>Affluent Customer</td>\n",
       "      <td>N</td>\n",
       "      <td>...</td>\n",
       "      <td>0.0</td>\n",
       "      <td>Approved</td>\n",
       "      <td>WeareA2B</td>\n",
       "      <td>Standard</td>\n",
       "      <td>medium</td>\n",
       "      <td>medium</td>\n",
       "      <td>1231.15</td>\n",
       "      <td>161.60</td>\n",
       "      <td>38216.0</td>\n",
       "      <td>178.0</td>\n",
       "    </tr>\n",
       "    <tr>\n",
       "      <th>204</th>\n",
       "      <td>34</td>\n",
       "      <td>Jephthah</td>\n",
       "      <td>Bachmann</td>\n",
       "      <td>U</td>\n",
       "      <td>59</td>\n",
       "      <td>1843-12-21</td>\n",
       "      <td>Legal Assistant</td>\n",
       "      <td>IT</td>\n",
       "      <td>Affluent Customer</td>\n",
       "      <td>N</td>\n",
       "      <td>...</td>\n",
       "      <td>1.0</td>\n",
       "      <td>Approved</td>\n",
       "      <td>Giant Bicycles</td>\n",
       "      <td>Standard</td>\n",
       "      <td>high</td>\n",
       "      <td>small</td>\n",
       "      <td>1977.36</td>\n",
       "      <td>1759.85</td>\n",
       "      <td>40779.0</td>\n",
       "      <td>178.0</td>\n",
       "    </tr>\n",
       "    <tr>\n",
       "      <th>205</th>\n",
       "      <td>34</td>\n",
       "      <td>Jephthah</td>\n",
       "      <td>Bachmann</td>\n",
       "      <td>U</td>\n",
       "      <td>59</td>\n",
       "      <td>1843-12-21</td>\n",
       "      <td>Legal Assistant</td>\n",
       "      <td>IT</td>\n",
       "      <td>Affluent Customer</td>\n",
       "      <td>N</td>\n",
       "      <td>...</td>\n",
       "      <td>0.0</td>\n",
       "      <td>Approved</td>\n",
       "      <td>Solex</td>\n",
       "      <td>Standard</td>\n",
       "      <td>medium</td>\n",
       "      <td>medium</td>\n",
       "      <td>1163.89</td>\n",
       "      <td>589.27</td>\n",
       "      <td>42560.0</td>\n",
       "      <td>178.0</td>\n",
       "    </tr>\n",
       "    <tr>\n",
       "      <th>206</th>\n",
       "      <td>34</td>\n",
       "      <td>Jephthah</td>\n",
       "      <td>Bachmann</td>\n",
       "      <td>U</td>\n",
       "      <td>59</td>\n",
       "      <td>1843-12-21</td>\n",
       "      <td>Legal Assistant</td>\n",
       "      <td>IT</td>\n",
       "      <td>Affluent Customer</td>\n",
       "      <td>N</td>\n",
       "      <td>...</td>\n",
       "      <td>0.0</td>\n",
       "      <td>Approved</td>\n",
       "      <td>NaN</td>\n",
       "      <td>NaN</td>\n",
       "      <td>NaN</td>\n",
       "      <td>NaN</td>\n",
       "      <td>1034.17</td>\n",
       "      <td>NaN</td>\n",
       "      <td>NaN</td>\n",
       "      <td>178.0</td>\n",
       "    </tr>\n",
       "    <tr>\n",
       "      <th>207</th>\n",
       "      <td>34</td>\n",
       "      <td>Jephthah</td>\n",
       "      <td>Bachmann</td>\n",
       "      <td>U</td>\n",
       "      <td>59</td>\n",
       "      <td>1843-12-21</td>\n",
       "      <td>Legal Assistant</td>\n",
       "      <td>IT</td>\n",
       "      <td>Affluent Customer</td>\n",
       "      <td>N</td>\n",
       "      <td>...</td>\n",
       "      <td>1.0</td>\n",
       "      <td>Approved</td>\n",
       "      <td>WeareA2B</td>\n",
       "      <td>Road</td>\n",
       "      <td>low</td>\n",
       "      <td>small</td>\n",
       "      <td>1172.78</td>\n",
       "      <td>1043.77</td>\n",
       "      <td>37539.0</td>\n",
       "      <td>178.0</td>\n",
       "    </tr>\n",
       "    <tr>\n",
       "      <th>208</th>\n",
       "      <td>34</td>\n",
       "      <td>Jephthah</td>\n",
       "      <td>Bachmann</td>\n",
       "      <td>U</td>\n",
       "      <td>59</td>\n",
       "      <td>1843-12-21</td>\n",
       "      <td>Legal Assistant</td>\n",
       "      <td>IT</td>\n",
       "      <td>Affluent Customer</td>\n",
       "      <td>N</td>\n",
       "      <td>...</td>\n",
       "      <td>0.0</td>\n",
       "      <td>Approved</td>\n",
       "      <td>WeareA2B</td>\n",
       "      <td>Standard</td>\n",
       "      <td>medium</td>\n",
       "      <td>medium</td>\n",
       "      <td>1807.45</td>\n",
       "      <td>778.69</td>\n",
       "      <td>42145.0</td>\n",
       "      <td>178.0</td>\n",
       "    </tr>\n",
       "    <tr>\n",
       "      <th>4200</th>\n",
       "      <td>720</td>\n",
       "      <td>Darrel</td>\n",
       "      <td>Canet</td>\n",
       "      <td>Male</td>\n",
       "      <td>67</td>\n",
       "      <td>1931-10-23</td>\n",
       "      <td>Recruiting Manager</td>\n",
       "      <td>Retail</td>\n",
       "      <td>Affluent Customer</td>\n",
       "      <td>N</td>\n",
       "      <td>...</td>\n",
       "      <td>0.0</td>\n",
       "      <td>Approved</td>\n",
       "      <td>Giant Bicycles</td>\n",
       "      <td>Standard</td>\n",
       "      <td>high</td>\n",
       "      <td>small</td>\n",
       "      <td>1977.36</td>\n",
       "      <td>1759.85</td>\n",
       "      <td>41848.0</td>\n",
       "      <td>90.0</td>\n",
       "    </tr>\n",
       "    <tr>\n",
       "      <th>4201</th>\n",
       "      <td>720</td>\n",
       "      <td>Darrel</td>\n",
       "      <td>Canet</td>\n",
       "      <td>Male</td>\n",
       "      <td>67</td>\n",
       "      <td>1931-10-23</td>\n",
       "      <td>Recruiting Manager</td>\n",
       "      <td>Retail</td>\n",
       "      <td>Affluent Customer</td>\n",
       "      <td>N</td>\n",
       "      <td>...</td>\n",
       "      <td>0.0</td>\n",
       "      <td>Approved</td>\n",
       "      <td>Solex</td>\n",
       "      <td>Road</td>\n",
       "      <td>medium</td>\n",
       "      <td>large</td>\n",
       "      <td>1777.80</td>\n",
       "      <td>820.78</td>\n",
       "      <td>41047.0</td>\n",
       "      <td>90.0</td>\n",
       "    </tr>\n",
       "    <tr>\n",
       "      <th>4202</th>\n",
       "      <td>720</td>\n",
       "      <td>Darrel</td>\n",
       "      <td>Canet</td>\n",
       "      <td>Male</td>\n",
       "      <td>67</td>\n",
       "      <td>1931-10-23</td>\n",
       "      <td>Recruiting Manager</td>\n",
       "      <td>Retail</td>\n",
       "      <td>Affluent Customer</td>\n",
       "      <td>N</td>\n",
       "      <td>...</td>\n",
       "      <td>1.0</td>\n",
       "      <td>Approved</td>\n",
       "      <td>Giant Bicycles</td>\n",
       "      <td>Standard</td>\n",
       "      <td>medium</td>\n",
       "      <td>small</td>\n",
       "      <td>1311.44</td>\n",
       "      <td>1167.18</td>\n",
       "      <td>36498.0</td>\n",
       "      <td>90.0</td>\n",
       "    </tr>\n",
       "    <tr>\n",
       "      <th>4203</th>\n",
       "      <td>720</td>\n",
       "      <td>Darrel</td>\n",
       "      <td>Canet</td>\n",
       "      <td>Male</td>\n",
       "      <td>67</td>\n",
       "      <td>1931-10-23</td>\n",
       "      <td>Recruiting Manager</td>\n",
       "      <td>Retail</td>\n",
       "      <td>Affluent Customer</td>\n",
       "      <td>N</td>\n",
       "      <td>...</td>\n",
       "      <td>1.0</td>\n",
       "      <td>Approved</td>\n",
       "      <td>WeareA2B</td>\n",
       "      <td>Standard</td>\n",
       "      <td>medium</td>\n",
       "      <td>medium</td>\n",
       "      <td>1231.15</td>\n",
       "      <td>161.60</td>\n",
       "      <td>34170.0</td>\n",
       "      <td>90.0</td>\n",
       "    </tr>\n",
       "    <tr>\n",
       "      <th>4204</th>\n",
       "      <td>720</td>\n",
       "      <td>Darrel</td>\n",
       "      <td>Canet</td>\n",
       "      <td>Male</td>\n",
       "      <td>67</td>\n",
       "      <td>1931-10-23</td>\n",
       "      <td>Recruiting Manager</td>\n",
       "      <td>Retail</td>\n",
       "      <td>Affluent Customer</td>\n",
       "      <td>N</td>\n",
       "      <td>...</td>\n",
       "      <td>1.0</td>\n",
       "      <td>Approved</td>\n",
       "      <td>Trek Bicycles</td>\n",
       "      <td>Road</td>\n",
       "      <td>low</td>\n",
       "      <td>medium</td>\n",
       "      <td>980.37</td>\n",
       "      <td>234.43</td>\n",
       "      <td>33429.0</td>\n",
       "      <td>90.0</td>\n",
       "    </tr>\n",
       "    <tr>\n",
       "      <th>4205</th>\n",
       "      <td>720</td>\n",
       "      <td>Darrel</td>\n",
       "      <td>Canet</td>\n",
       "      <td>Male</td>\n",
       "      <td>67</td>\n",
       "      <td>1931-10-23</td>\n",
       "      <td>Recruiting Manager</td>\n",
       "      <td>Retail</td>\n",
       "      <td>Affluent Customer</td>\n",
       "      <td>N</td>\n",
       "      <td>...</td>\n",
       "      <td>0.0</td>\n",
       "      <td>Approved</td>\n",
       "      <td>Trek Bicycles</td>\n",
       "      <td>Standard</td>\n",
       "      <td>medium</td>\n",
       "      <td>large</td>\n",
       "      <td>2091.47</td>\n",
       "      <td>388.92</td>\n",
       "      <td>40779.0</td>\n",
       "      <td>90.0</td>\n",
       "    </tr>\n",
       "    <tr>\n",
       "      <th>4206</th>\n",
       "      <td>720</td>\n",
       "      <td>Darrel</td>\n",
       "      <td>Canet</td>\n",
       "      <td>Male</td>\n",
       "      <td>67</td>\n",
       "      <td>1931-10-23</td>\n",
       "      <td>Recruiting Manager</td>\n",
       "      <td>Retail</td>\n",
       "      <td>Affluent Customer</td>\n",
       "      <td>N</td>\n",
       "      <td>...</td>\n",
       "      <td>1.0</td>\n",
       "      <td>Approved</td>\n",
       "      <td>Trek Bicycles</td>\n",
       "      <td>Mountain</td>\n",
       "      <td>low</td>\n",
       "      <td>medium</td>\n",
       "      <td>574.64</td>\n",
       "      <td>459.71</td>\n",
       "      <td>38206.0</td>\n",
       "      <td>90.0</td>\n",
       "    </tr>\n",
       "    <tr>\n",
       "      <th>4207</th>\n",
       "      <td>720</td>\n",
       "      <td>Darrel</td>\n",
       "      <td>Canet</td>\n",
       "      <td>Male</td>\n",
       "      <td>67</td>\n",
       "      <td>1931-10-23</td>\n",
       "      <td>Recruiting Manager</td>\n",
       "      <td>Retail</td>\n",
       "      <td>Affluent Customer</td>\n",
       "      <td>N</td>\n",
       "      <td>...</td>\n",
       "      <td>0.0</td>\n",
       "      <td>Approved</td>\n",
       "      <td>OHM Cycles</td>\n",
       "      <td>Standard</td>\n",
       "      <td>medium</td>\n",
       "      <td>medium</td>\n",
       "      <td>795.34</td>\n",
       "      <td>101.58</td>\n",
       "      <td>38647.0</td>\n",
       "      <td>90.0</td>\n",
       "    </tr>\n",
       "    <tr>\n",
       "      <th>4208</th>\n",
       "      <td>720</td>\n",
       "      <td>Darrel</td>\n",
       "      <td>Canet</td>\n",
       "      <td>Male</td>\n",
       "      <td>67</td>\n",
       "      <td>1931-10-23</td>\n",
       "      <td>Recruiting Manager</td>\n",
       "      <td>Retail</td>\n",
       "      <td>Affluent Customer</td>\n",
       "      <td>N</td>\n",
       "      <td>...</td>\n",
       "      <td>0.0</td>\n",
       "      <td>Approved</td>\n",
       "      <td>Trek Bicycles</td>\n",
       "      <td>Standard</td>\n",
       "      <td>medium</td>\n",
       "      <td>large</td>\n",
       "      <td>1469.44</td>\n",
       "      <td>596.55</td>\n",
       "      <td>36668.0</td>\n",
       "      <td>90.0</td>\n",
       "    </tr>\n",
       "    <tr>\n",
       "      <th>4209</th>\n",
       "      <td>720</td>\n",
       "      <td>Darrel</td>\n",
       "      <td>Canet</td>\n",
       "      <td>Male</td>\n",
       "      <td>67</td>\n",
       "      <td>1931-10-23</td>\n",
       "      <td>Recruiting Manager</td>\n",
       "      <td>Retail</td>\n",
       "      <td>Affluent Customer</td>\n",
       "      <td>N</td>\n",
       "      <td>...</td>\n",
       "      <td>1.0</td>\n",
       "      <td>Approved</td>\n",
       "      <td>OHM Cycles</td>\n",
       "      <td>Standard</td>\n",
       "      <td>medium</td>\n",
       "      <td>medium</td>\n",
       "      <td>795.34</td>\n",
       "      <td>101.58</td>\n",
       "      <td>38647.0</td>\n",
       "      <td>90.0</td>\n",
       "    </tr>\n",
       "  </tbody>\n",
       "</table>\n",
       "<p>19 rows × 31 columns</p>\n",
       "</div>"
      ],
      "text/plain": [
       "      customer_id first_name last_name gender  \\\n",
       "200            34   Jephthah  Bachmann      U   \n",
       "201            34   Jephthah  Bachmann      U   \n",
       "202            34   Jephthah  Bachmann      U   \n",
       "203            34   Jephthah  Bachmann      U   \n",
       "204            34   Jephthah  Bachmann      U   \n",
       "205            34   Jephthah  Bachmann      U   \n",
       "206            34   Jephthah  Bachmann      U   \n",
       "207            34   Jephthah  Bachmann      U   \n",
       "208            34   Jephthah  Bachmann      U   \n",
       "4200          720     Darrel     Canet   Male   \n",
       "4201          720     Darrel     Canet   Male   \n",
       "4202          720     Darrel     Canet   Male   \n",
       "4203          720     Darrel     Canet   Male   \n",
       "4204          720     Darrel     Canet   Male   \n",
       "4205          720     Darrel     Canet   Male   \n",
       "4206          720     Darrel     Canet   Male   \n",
       "4207          720     Darrel     Canet   Male   \n",
       "4208          720     Darrel     Canet   Male   \n",
       "4209          720     Darrel     Canet   Male   \n",
       "\n",
       "      past_3_years_bike_related_purchases        DOB           job_title  \\\n",
       "200                                    59 1843-12-21     Legal Assistant   \n",
       "201                                    59 1843-12-21     Legal Assistant   \n",
       "202                                    59 1843-12-21     Legal Assistant   \n",
       "203                                    59 1843-12-21     Legal Assistant   \n",
       "204                                    59 1843-12-21     Legal Assistant   \n",
       "205                                    59 1843-12-21     Legal Assistant   \n",
       "206                                    59 1843-12-21     Legal Assistant   \n",
       "207                                    59 1843-12-21     Legal Assistant   \n",
       "208                                    59 1843-12-21     Legal Assistant   \n",
       "4200                                   67 1931-10-23  Recruiting Manager   \n",
       "4201                                   67 1931-10-23  Recruiting Manager   \n",
       "4202                                   67 1931-10-23  Recruiting Manager   \n",
       "4203                                   67 1931-10-23  Recruiting Manager   \n",
       "4204                                   67 1931-10-23  Recruiting Manager   \n",
       "4205                                   67 1931-10-23  Recruiting Manager   \n",
       "4206                                   67 1931-10-23  Recruiting Manager   \n",
       "4207                                   67 1931-10-23  Recruiting Manager   \n",
       "4208                                   67 1931-10-23  Recruiting Manager   \n",
       "4209                                   67 1931-10-23  Recruiting Manager   \n",
       "\n",
       "     job_industry_category     wealth_segment deceased_indicator  ...  \\\n",
       "200                     IT  Affluent Customer                  N  ...   \n",
       "201                     IT  Affluent Customer                  N  ...   \n",
       "202                     IT  Affluent Customer                  N  ...   \n",
       "203                     IT  Affluent Customer                  N  ...   \n",
       "204                     IT  Affluent Customer                  N  ...   \n",
       "205                     IT  Affluent Customer                  N  ...   \n",
       "206                     IT  Affluent Customer                  N  ...   \n",
       "207                     IT  Affluent Customer                  N  ...   \n",
       "208                     IT  Affluent Customer                  N  ...   \n",
       "4200                Retail  Affluent Customer                  N  ...   \n",
       "4201                Retail  Affluent Customer                  N  ...   \n",
       "4202                Retail  Affluent Customer                  N  ...   \n",
       "4203                Retail  Affluent Customer                  N  ...   \n",
       "4204                Retail  Affluent Customer                  N  ...   \n",
       "4205                Retail  Affluent Customer                  N  ...   \n",
       "4206                Retail  Affluent Customer                  N  ...   \n",
       "4207                Retail  Affluent Customer                  N  ...   \n",
       "4208                Retail  Affluent Customer                  N  ...   \n",
       "4209                Retail  Affluent Customer                  N  ...   \n",
       "\n",
       "     online_order order_status           brand product_line  product_class  \\\n",
       "200           1.0     Approved           Solex         Road         medium   \n",
       "201           0.0     Approved  Norco Bicycles     Standard            low   \n",
       "202           0.0     Approved           Solex      Touring         medium   \n",
       "203           0.0     Approved        WeareA2B     Standard         medium   \n",
       "204           1.0     Approved  Giant Bicycles     Standard           high   \n",
       "205           0.0     Approved           Solex     Standard         medium   \n",
       "206           0.0     Approved             NaN          NaN            NaN   \n",
       "207           1.0     Approved        WeareA2B         Road            low   \n",
       "208           0.0     Approved        WeareA2B     Standard         medium   \n",
       "4200          0.0     Approved  Giant Bicycles     Standard           high   \n",
       "4201          0.0     Approved           Solex         Road         medium   \n",
       "4202          1.0     Approved  Giant Bicycles     Standard         medium   \n",
       "4203          1.0     Approved        WeareA2B     Standard         medium   \n",
       "4204          1.0     Approved   Trek Bicycles         Road            low   \n",
       "4205          0.0     Approved   Trek Bicycles     Standard         medium   \n",
       "4206          1.0     Approved   Trek Bicycles     Mountain            low   \n",
       "4207          0.0     Approved      OHM Cycles     Standard         medium   \n",
       "4208          0.0     Approved   Trek Bicycles     Standard         medium   \n",
       "4209          1.0     Approved      OHM Cycles     Standard         medium   \n",
       "\n",
       "     product_size list_price  standard_cost  product_first_sold_date    age  \n",
       "200         small    1703.52        1516.13                  40649.0  178.0  \n",
       "201        medium     958.74         748.90                  38693.0  178.0  \n",
       "202         large    2083.94         675.03                  41533.0  178.0  \n",
       "203        medium    1231.15         161.60                  38216.0  178.0  \n",
       "204         small    1977.36        1759.85                  40779.0  178.0  \n",
       "205        medium    1163.89         589.27                  42560.0  178.0  \n",
       "206           NaN    1034.17            NaN                      NaN  178.0  \n",
       "207         small    1172.78        1043.77                  37539.0  178.0  \n",
       "208        medium    1807.45         778.69                  42145.0  178.0  \n",
       "4200        small    1977.36        1759.85                  41848.0   90.0  \n",
       "4201        large    1777.80         820.78                  41047.0   90.0  \n",
       "4202        small    1311.44        1167.18                  36498.0   90.0  \n",
       "4203       medium    1231.15         161.60                  34170.0   90.0  \n",
       "4204       medium     980.37         234.43                  33429.0   90.0  \n",
       "4205        large    2091.47         388.92                  40779.0   90.0  \n",
       "4206       medium     574.64         459.71                  38206.0   90.0  \n",
       "4207       medium     795.34         101.58                  38647.0   90.0  \n",
       "4208        large    1469.44         596.55                  36668.0   90.0  \n",
       "4209       medium     795.34         101.58                  38647.0   90.0  \n",
       "\n",
       "[19 rows x 31 columns]"
      ]
     },
     "execution_count": 36,
     "metadata": {},
     "output_type": "execute_result"
    }
   ],
   "source": [
    "customers.query('age >= 90')\n"
   ]
  },
  {
   "cell_type": "code",
   "execution_count": 37,
   "metadata": {},
   "outputs": [],
   "source": [
    "customers.age.replace(to_replace = 178, value = 78, inplace = True)"
   ]
  },
  {
   "cell_type": "code",
   "execution_count": 38,
   "metadata": {},
   "outputs": [],
   "source": [
    "customers.drop(columns =['default', 'address', 'first_name', 'last_name', 'DOB', 'customer_id'], inplace = True, axis = 1)\n",
    "customers.drop(columns =['job_industry_category', 'job_title', 'transaction_id', 'transaction_date', 'product_id', 'product_first_sold_date'], inplace = True, axis = 1)"
   ]
  },
  {
   "cell_type": "code",
   "execution_count": 39,
   "metadata": {
    "scrolled": false
   },
   "outputs": [
    {
     "name": "stdout",
     "output_type": "stream",
     "text": [
      "<class 'pandas.core.frame.DataFrame'>\n",
      "Int64Index: 20504 entries, 0 to 20503\n",
      "Data columns (total 19 columns):\n",
      " #   Column                               Non-Null Count  Dtype  \n",
      "---  ------                               --------------  -----  \n",
      " 0   gender                               20504 non-null  object \n",
      " 1   past_3_years_bike_related_purchases  20504 non-null  int64  \n",
      " 2   wealth_segment                       20504 non-null  object \n",
      " 3   deceased_indicator                   20504 non-null  object \n",
      " 4   owns_car                             20504 non-null  object \n",
      " 5   tenure                               20047 non-null  float64\n",
      " 6   postcode                             20475 non-null  float64\n",
      " 7   state                                20475 non-null  object \n",
      " 8   country                              20475 non-null  object \n",
      " 9   property_valuation                   20475 non-null  float64\n",
      " 10  online_order                         19637 non-null  float64\n",
      " 11  order_status                         19997 non-null  object \n",
      " 12  brand                                19800 non-null  object \n",
      " 13  product_line                         19800 non-null  object \n",
      " 14  product_class                        19800 non-null  object \n",
      " 15  product_size                         19800 non-null  object \n",
      " 16  list_price                           19997 non-null  float64\n",
      " 17  standard_cost                        19800 non-null  float64\n",
      " 18  age                                  20047 non-null  float64\n",
      "dtypes: float64(7), int64(1), object(11)\n",
      "memory usage: 2.3+ MB\n"
     ]
    }
   ],
   "source": [
    "customers.info()"
   ]
  },
  {
   "cell_type": "code",
   "execution_count": 40,
   "metadata": {},
   "outputs": [
    {
     "data": {
      "text/plain": [
       "gender                                   0\n",
       "past_3_years_bike_related_purchases      0\n",
       "wealth_segment                           0\n",
       "deceased_indicator                       0\n",
       "owns_car                                 0\n",
       "tenure                                 457\n",
       "postcode                                29\n",
       "state                                   29\n",
       "country                                 29\n",
       "property_valuation                      29\n",
       "online_order                           867\n",
       "order_status                           507\n",
       "brand                                  704\n",
       "product_line                           704\n",
       "product_class                          704\n",
       "product_size                           704\n",
       "list_price                             507\n",
       "standard_cost                          704\n",
       "age                                    457\n",
       "dtype: int64"
      ]
     },
     "execution_count": 40,
     "metadata": {},
     "output_type": "execute_result"
    }
   ],
   "source": [
    "customers.isna().sum()"
   ]
  },
  {
   "cell_type": "code",
   "execution_count": 41,
   "metadata": {
    "scrolled": false
   },
   "outputs": [],
   "source": [
    "customers['age'].fillna(value = customers.age.mode()[0], inplace = True)\n",
    "customers['standard_cost'].fillna(value = customers.standard_cost.mode()[0], inplace = True)\n",
    "customers['list_price'].fillna(value = customers.list_price.mode()[0], inplace = True)\n",
    "customers['product_size'].fillna(value = customers.product_size.mode()[0], inplace = True)\n",
    "customers['product_line'].fillna(value = customers.product_line.mode()[0], inplace = True)\n",
    "customers['product_class'].fillna(value = customers.product_class.mode()[0], inplace = True)\n",
    "customers['brand'].fillna(value = customers.brand.mode()[0], inplace = True)\n",
    "customers['order_status'].fillna(value = customers.order_status.mode()[0], inplace = True)\n",
    "customers['online_order'].fillna(value = customers.online_order.mode()[0], inplace = True)\n",
    "customers['tenure'].fillna(value = customers.tenure.mode()[0], inplace = True)\n",
    "customers['property_valuation'].fillna(value = customers.property_valuation.mode()[0], inplace = True)"
   ]
  },
  {
   "cell_type": "code",
   "execution_count": 42,
   "metadata": {},
   "outputs": [
    {
     "name": "stdout",
     "output_type": "stream",
     "text": [
      "<class 'pandas.core.frame.DataFrame'>\n",
      "Int64Index: 20504 entries, 0 to 20503\n",
      "Data columns (total 19 columns):\n",
      " #   Column                               Non-Null Count  Dtype  \n",
      "---  ------                               --------------  -----  \n",
      " 0   gender                               20504 non-null  object \n",
      " 1   past_3_years_bike_related_purchases  20504 non-null  int64  \n",
      " 2   wealth_segment                       20504 non-null  object \n",
      " 3   deceased_indicator                   20504 non-null  object \n",
      " 4   owns_car                             20504 non-null  object \n",
      " 5   tenure                               20504 non-null  float64\n",
      " 6   postcode                             20475 non-null  float64\n",
      " 7   state                                20475 non-null  object \n",
      " 8   country                              20475 non-null  object \n",
      " 9   property_valuation                   20504 non-null  float64\n",
      " 10  online_order                         20504 non-null  float64\n",
      " 11  order_status                         20504 non-null  object \n",
      " 12  brand                                20504 non-null  object \n",
      " 13  product_line                         20504 non-null  object \n",
      " 14  product_class                        20504 non-null  object \n",
      " 15  product_size                         20504 non-null  object \n",
      " 16  list_price                           20504 non-null  float64\n",
      " 17  standard_cost                        20504 non-null  float64\n",
      " 18  age                                  20504 non-null  float64\n",
      "dtypes: float64(7), int64(1), object(11)\n",
      "memory usage: 2.3+ MB\n"
     ]
    }
   ],
   "source": [
    "customers.info()"
   ]
  },
  {
   "cell_type": "code",
   "execution_count": 43,
   "metadata": {},
   "outputs": [
    {
     "data": {
      "text/plain": [
       "array(['NSW', nan, 'QLD', 'VIC'], dtype=object)"
      ]
     },
     "execution_count": 43,
     "metadata": {},
     "output_type": "execute_result"
    }
   ],
   "source": [
    "customers.state.unique()\n",
    "\n",
    "customers.state.replace(to_replace = ['New South Wales'],value = ['NSW'], inplace = True)\n",
    "customers.state.replace(to_replace = ['Victoria'],value = ['VIC'], inplace = True)\n",
    "customers.state.unique()"
   ]
  },
  {
   "cell_type": "code",
   "execution_count": 44,
   "metadata": {},
   "outputs": [],
   "source": [
    "customers.state.fillna(customers.state.mode()[0], inplace = True)"
   ]
  },
  {
   "cell_type": "code",
   "execution_count": 45,
   "metadata": {
    "scrolled": true
   },
   "outputs": [
    {
     "data": {
      "text/plain": [
       "array(['Australia', nan], dtype=object)"
      ]
     },
     "execution_count": 45,
     "metadata": {},
     "output_type": "execute_result"
    }
   ],
   "source": [
    "customers.country.unique()"
   ]
  },
  {
   "cell_type": "code",
   "execution_count": 46,
   "metadata": {},
   "outputs": [],
   "source": [
    "customers.gender.unique()\n",
    "\n",
    "customers.gender.replace(to_replace = ['Male', 'U'],value = ['M', 'M'], inplace = True)\n",
    "customers.gender.replace(to_replace = ['Female', 'Femal'],value = ['F', 'F'], inplace = True)"
   ]
  },
  {
   "cell_type": "code",
   "execution_count": null,
   "metadata": {},
   "outputs": [],
   "source": []
  },
  {
   "cell_type": "code",
   "execution_count": 47,
   "metadata": {},
   "outputs": [],
   "source": [
    "customers.drop(columns =['country', 'postcode'], inplace = True, axis = 1)"
   ]
  },
  {
   "cell_type": "code",
   "execution_count": 48,
   "metadata": {},
   "outputs": [
    {
     "name": "stdout",
     "output_type": "stream",
     "text": [
      "<class 'pandas.core.frame.DataFrame'>\n",
      "Int64Index: 20504 entries, 0 to 20503\n",
      "Data columns (total 17 columns):\n",
      " #   Column                               Non-Null Count  Dtype  \n",
      "---  ------                               --------------  -----  \n",
      " 0   gender                               20504 non-null  object \n",
      " 1   past_3_years_bike_related_purchases  20504 non-null  int64  \n",
      " 2   wealth_segment                       20504 non-null  object \n",
      " 3   deceased_indicator                   20504 non-null  object \n",
      " 4   owns_car                             20504 non-null  object \n",
      " 5   tenure                               20504 non-null  float64\n",
      " 6   state                                20504 non-null  object \n",
      " 7   property_valuation                   20504 non-null  float64\n",
      " 8   online_order                         20504 non-null  float64\n",
      " 9   order_status                         20504 non-null  object \n",
      " 10  brand                                20504 non-null  object \n",
      " 11  product_line                         20504 non-null  object \n",
      " 12  product_class                        20504 non-null  object \n",
      " 13  product_size                         20504 non-null  object \n",
      " 14  list_price                           20504 non-null  float64\n",
      " 15  standard_cost                        20504 non-null  float64\n",
      " 16  age                                  20504 non-null  float64\n",
      "dtypes: float64(6), int64(1), object(10)\n",
      "memory usage: 2.0+ MB\n"
     ]
    }
   ],
   "source": [
    "customers.info()"
   ]
  },
  {
   "cell_type": "code",
   "execution_count": 49,
   "metadata": {},
   "outputs": [
    {
     "data": {
      "text/html": [
       "<div>\n",
       "<style scoped>\n",
       "    .dataframe tbody tr th:only-of-type {\n",
       "        vertical-align: middle;\n",
       "    }\n",
       "\n",
       "    .dataframe tbody tr th {\n",
       "        vertical-align: top;\n",
       "    }\n",
       "\n",
       "    .dataframe thead th {\n",
       "        text-align: right;\n",
       "    }\n",
       "</style>\n",
       "<table border=\"1\" class=\"dataframe\">\n",
       "  <thead>\n",
       "    <tr style=\"text-align: right;\">\n",
       "      <th></th>\n",
       "      <th>gender</th>\n",
       "      <th>past_3_years_bike_related_purchases</th>\n",
       "      <th>wealth_segment</th>\n",
       "      <th>deceased_indicator</th>\n",
       "      <th>owns_car</th>\n",
       "      <th>tenure</th>\n",
       "      <th>state</th>\n",
       "      <th>property_valuation</th>\n",
       "      <th>online_order</th>\n",
       "      <th>order_status</th>\n",
       "      <th>brand</th>\n",
       "      <th>product_line</th>\n",
       "      <th>product_class</th>\n",
       "      <th>product_size</th>\n",
       "      <th>list_price</th>\n",
       "      <th>standard_cost</th>\n",
       "      <th>age</th>\n",
       "    </tr>\n",
       "  </thead>\n",
       "  <tbody>\n",
       "    <tr>\n",
       "      <th>0</th>\n",
       "      <td>F</td>\n",
       "      <td>93</td>\n",
       "      <td>Mass Customer</td>\n",
       "      <td>N</td>\n",
       "      <td>Yes</td>\n",
       "      <td>11.0</td>\n",
       "      <td>NSW</td>\n",
       "      <td>10.0</td>\n",
       "      <td>0.0</td>\n",
       "      <td>Approved</td>\n",
       "      <td>OHM Cycles</td>\n",
       "      <td>Standard</td>\n",
       "      <td>medium</td>\n",
       "      <td>medium</td>\n",
       "      <td>235.63</td>\n",
       "      <td>125.07</td>\n",
       "      <td>68.0</td>\n",
       "    </tr>\n",
       "    <tr>\n",
       "      <th>1</th>\n",
       "      <td>F</td>\n",
       "      <td>93</td>\n",
       "      <td>Mass Customer</td>\n",
       "      <td>N</td>\n",
       "      <td>Yes</td>\n",
       "      <td>11.0</td>\n",
       "      <td>NSW</td>\n",
       "      <td>10.0</td>\n",
       "      <td>1.0</td>\n",
       "      <td>Approved</td>\n",
       "      <td>Solex</td>\n",
       "      <td>Standard</td>\n",
       "      <td>medium</td>\n",
       "      <td>medium</td>\n",
       "      <td>1577.53</td>\n",
       "      <td>826.51</td>\n",
       "      <td>68.0</td>\n",
       "    </tr>\n",
       "    <tr>\n",
       "      <th>2</th>\n",
       "      <td>F</td>\n",
       "      <td>93</td>\n",
       "      <td>Mass Customer</td>\n",
       "      <td>N</td>\n",
       "      <td>Yes</td>\n",
       "      <td>11.0</td>\n",
       "      <td>NSW</td>\n",
       "      <td>10.0</td>\n",
       "      <td>1.0</td>\n",
       "      <td>Approved</td>\n",
       "      <td>Trek Bicycles</td>\n",
       "      <td>Road</td>\n",
       "      <td>low</td>\n",
       "      <td>small</td>\n",
       "      <td>1720.70</td>\n",
       "      <td>1531.42</td>\n",
       "      <td>68.0</td>\n",
       "    </tr>\n",
       "    <tr>\n",
       "      <th>3</th>\n",
       "      <td>F</td>\n",
       "      <td>93</td>\n",
       "      <td>Mass Customer</td>\n",
       "      <td>N</td>\n",
       "      <td>Yes</td>\n",
       "      <td>11.0</td>\n",
       "      <td>NSW</td>\n",
       "      <td>10.0</td>\n",
       "      <td>0.0</td>\n",
       "      <td>Approved</td>\n",
       "      <td>Norco Bicycles</td>\n",
       "      <td>Standard</td>\n",
       "      <td>medium</td>\n",
       "      <td>medium</td>\n",
       "      <td>360.40</td>\n",
       "      <td>270.30</td>\n",
       "      <td>68.0</td>\n",
       "    </tr>\n",
       "    <tr>\n",
       "      <th>4</th>\n",
       "      <td>F</td>\n",
       "      <td>93</td>\n",
       "      <td>Mass Customer</td>\n",
       "      <td>N</td>\n",
       "      <td>Yes</td>\n",
       "      <td>11.0</td>\n",
       "      <td>NSW</td>\n",
       "      <td>10.0</td>\n",
       "      <td>0.0</td>\n",
       "      <td>Approved</td>\n",
       "      <td>Solex</td>\n",
       "      <td>Standard</td>\n",
       "      <td>medium</td>\n",
       "      <td>medium</td>\n",
       "      <td>71.49</td>\n",
       "      <td>53.62</td>\n",
       "      <td>68.0</td>\n",
       "    </tr>\n",
       "  </tbody>\n",
       "</table>\n",
       "</div>"
      ],
      "text/plain": [
       "  gender  past_3_years_bike_related_purchases wealth_segment  \\\n",
       "0      F                                   93  Mass Customer   \n",
       "1      F                                   93  Mass Customer   \n",
       "2      F                                   93  Mass Customer   \n",
       "3      F                                   93  Mass Customer   \n",
       "4      F                                   93  Mass Customer   \n",
       "\n",
       "  deceased_indicator owns_car  tenure state  property_valuation  online_order  \\\n",
       "0                  N      Yes    11.0   NSW                10.0           0.0   \n",
       "1                  N      Yes    11.0   NSW                10.0           1.0   \n",
       "2                  N      Yes    11.0   NSW                10.0           1.0   \n",
       "3                  N      Yes    11.0   NSW                10.0           0.0   \n",
       "4                  N      Yes    11.0   NSW                10.0           0.0   \n",
       "\n",
       "  order_status           brand product_line product_class product_size  \\\n",
       "0     Approved      OHM Cycles     Standard        medium       medium   \n",
       "1     Approved           Solex     Standard        medium       medium   \n",
       "2     Approved   Trek Bicycles         Road           low        small   \n",
       "3     Approved  Norco Bicycles     Standard        medium       medium   \n",
       "4     Approved           Solex     Standard        medium       medium   \n",
       "\n",
       "   list_price  standard_cost   age  \n",
       "0      235.63         125.07  68.0  \n",
       "1     1577.53         826.51  68.0  \n",
       "2     1720.70        1531.42  68.0  \n",
       "3      360.40         270.30  68.0  \n",
       "4       71.49          53.62  68.0  "
      ]
     },
     "execution_count": 49,
     "metadata": {},
     "output_type": "execute_result"
    }
   ],
   "source": [
    "customers.head()"
   ]
  },
  {
   "cell_type": "markdown",
   "metadata": {},
   "source": [
    "### EDA of the clean Dataset"
   ]
  },
  {
   "cell_type": "code",
   "execution_count": 50,
   "metadata": {},
   "outputs": [
    {
     "data": {
      "text/plain": [
       "<matplotlib.axes._subplots.AxesSubplot at 0x16f83ec8>"
      ]
     },
     "execution_count": 50,
     "metadata": {},
     "output_type": "execute_result"
    },
    {
     "data": {
      "image/png": "[encoded data removed]",
      "text/plain": [
       "<Figure size 432x288 with 1 Axes>"
      ]
     },
     "metadata": {},
     "output_type": "display_data"
    }
   ],
   "source": [
    "customers.age.hist()"
   ]
  },
  {
   "cell_type": "code",
   "execution_count": 51,
   "metadata": {},
   "outputs": [
    {
     "data": {
      "text/plain": [
       "<matplotlib.axes._subplots.AxesSubplot at 0x16fe80e8>"
      ]
     },
     "execution_count": 51,
     "metadata": {},
     "output_type": "execute_result"
    },
    {
     "data": {
      "image/png": "[encoded data removed]",
      "text/plain": [
       "<Figure size 432x288 with 1 Axes>"
      ]
     },
     "metadata": {},
     "output_type": "display_data"
    }
   ],
   "source": [
    "sns.barplot(data= customers, y = customers.gender.unique(), x = customers.gender.value_counts())"
   ]
  },
  {
   "cell_type": "code",
   "execution_count": 52,
   "metadata": {},
   "outputs": [
    {
     "data": {
      "text/plain": [
       "<matplotlib.axes._subplots.AxesSubplot at 0x14a4afe8>"
      ]
     },
     "execution_count": 52,
     "metadata": {},
     "output_type": "execute_result"
    },
    {
     "data": {
      "image/png": "[encoded data removed]",
      "text/plain": [
       "<Figure size 432x288 with 1 Axes>"
      ]
     },
     "metadata": {},
     "output_type": "display_data"
    }
   ],
   "source": [
    "sns.barplot(data= customers, x = customers.wealth_segment.unique(), y = customers.wealth_segment.value_counts())"
   ]
  },
  {
   "cell_type": "code",
   "execution_count": 53,
   "metadata": {},
   "outputs": [
    {
     "data": {
      "text/plain": [
       "<matplotlib.axes._subplots.AxesSubplot at 0x1441fc40>"
      ]
     },
     "execution_count": 53,
     "metadata": {},
     "output_type": "execute_result"
    },
    {
     "data": {
      "image/png": "[encoded data removed]",
      "text/plain": [
       "<Figure size 432x288 with 1 Axes>"
      ]
     },
     "metadata": {},
     "output_type": "display_data"
    }
   ],
   "source": [
    "sns.barplot(data= customers, x = customers.deceased_indicator.unique(), y = customers.deceased_indicator.value_counts())"
   ]
  },
  {
   "cell_type": "code",
   "execution_count": 54,
   "metadata": {},
   "outputs": [
    {
     "data": {
      "text/plain": [
       "<matplotlib.axes._subplots.AxesSubplot at 0x1447e670>"
      ]
     },
     "execution_count": 54,
     "metadata": {},
     "output_type": "execute_result"
    },
    {
     "data": {
      "image/png": "[encoded data removed]",
      "text/plain": [
       "<Figure size 432x288 with 1 Axes>"
      ]
     },
     "metadata": {},
     "output_type": "display_data"
    }
   ],
   "source": [
    "sns.boxplot(data = customers, x = customers.age)"
   ]
  },
  {
   "cell_type": "code",
   "execution_count": 55,
   "metadata": {},
   "outputs": [
    {
     "data": {
      "text/plain": [
       "gender                                 18\n",
       "past_3_years_bike_related_purchases    18\n",
       "wealth_segment                         18\n",
       "deceased_indicator                     18\n",
       "owns_car                               18\n",
       "tenure                                 18\n",
       "state                                  18\n",
       "property_valuation                     18\n",
       "online_order                           18\n",
       "order_status                           18\n",
       "brand                                  18\n",
       "product_line                           18\n",
       "product_class                          18\n",
       "product_size                           18\n",
       "list_price                             18\n",
       "standard_cost                          18\n",
       "age                                    18\n",
       "dtype: int64"
      ]
     },
     "execution_count": 55,
     "metadata": {},
     "output_type": "execute_result"
    }
   ],
   "source": [
    "customers.query('age > 80').count()"
   ]
  },
  {
   "cell_type": "code",
   "execution_count": 56,
   "metadata": {},
   "outputs": [
    {
     "name": "stdout",
     "output_type": "stream",
     "text": [
      "<class 'pandas.core.frame.DataFrame'>\n",
      "Int64Index: 20504 entries, 0 to 20503\n",
      "Data columns (total 17 columns):\n",
      " #   Column                               Non-Null Count  Dtype  \n",
      "---  ------                               --------------  -----  \n",
      " 0   gender                               20504 non-null  object \n",
      " 1   past_3_years_bike_related_purchases  20504 non-null  int64  \n",
      " 2   wealth_segment                       20504 non-null  object \n",
      " 3   deceased_indicator                   20504 non-null  object \n",
      " 4   owns_car                             20504 non-null  object \n",
      " 5   tenure                               20504 non-null  float64\n",
      " 6   state                                20504 non-null  object \n",
      " 7   property_valuation                   20504 non-null  float64\n",
      " 8   online_order                         20504 non-null  float64\n",
      " 9   order_status                         20504 non-null  object \n",
      " 10  brand                                20504 non-null  object \n",
      " 11  product_line                         20504 non-null  object \n",
      " 12  product_class                        20504 non-null  object \n",
      " 13  product_size                         20504 non-null  object \n",
      " 14  list_price                           20504 non-null  float64\n",
      " 15  standard_cost                        20504 non-null  float64\n",
      " 16  age                                  20504 non-null  float64\n",
      "dtypes: float64(6), int64(1), object(10)\n",
      "memory usage: 2.0+ MB\n"
     ]
    }
   ],
   "source": [
    "customers.info()"
   ]
  },
  {
   "cell_type": "code",
   "execution_count": 57,
   "metadata": {},
   "outputs": [],
   "source": [
    "customers.to_csv('kpmg_cleaned.csv')"
   ]
  },
  {
   "cell_type": "code",
   "execution_count": null,
   "metadata": {},
   "outputs": [],
   "source": []
  },
  {
   "cell_type": "code",
   "execution_count": null,
   "metadata": {},
   "outputs": [],
   "source": []
  },
  {
   "cell_type": "code",
   "execution_count": null,
   "metadata": {},
   "outputs": [],
   "source": []
  },
  {
   "cell_type": "code",
   "execution_count": null,
   "metadata": {},
   "outputs": [],
   "source": []
  },
  {
   "cell_type": "code",
   "execution_count": null,
   "metadata": {},
   "outputs": [],
   "source": []
  }
 ],
 "metadata": {
  "kernelspec": {
   "display_name": "Python 3",
   "language": "python",
   "name": "python3"
  },
  "language_info": {
   "codemirror_mode": {
    "name": "ipython",
    "version": 3
   },
   "file_extension": ".py",
   "mimetype": "text/x-python",
   "name": "python",
   "nbconvert_exporter": "python",
   "pygments_lexer": "ipython3",
   "version": "3.8.1"
  }
 },
 "nbformat": 4,
 "nbformat_minor": 4
}
