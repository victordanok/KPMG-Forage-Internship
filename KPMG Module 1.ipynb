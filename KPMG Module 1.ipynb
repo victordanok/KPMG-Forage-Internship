{
 "cells": [
  {
   "cell_type": "code",
   "execution_count": null,
   "metadata": {},
   "outputs": [],
   "source": [
    "\n"
   ]
  },
  {
   "cell_type": "code",
   "execution_count": 1,
   "metadata": {},
   "outputs": [],
   "source": [
    "#import libraries\n",
    "\n",
    "import pandas as pd\n",
    "import numpy as np\n",
    "import matplotlib.pyplot as plt\n",
    "import seaborn as sns\n",
    "%matplotlib inline\n",
    "from datetime import datetime, date"
   ]
  },
  {
   "cell_type": "code",
   "execution_count": 2,
   "metadata": {},
   "outputs": [],
   "source": [
    "#import dataset\n",
    "with pd.ExcelFile(r'C:\\Users\\Victordanok\\Desktop\\Projects\\KPMG\\KPMG_VI_New_raw_data_update_final.xlsx') as reader:\n",
    "    trans = pd.read_excel(reader, sheet_name = 'Transactions', header = 1)\n",
    "    ncl = pd.read_excel(reader, sheet_name = 'NewCustomerList', header = 1)\n",
    "    cdem = pd.read_excel(reader, sheet_name = 'CustomerDemographic', header = 1)\n",
    "    cadd = pd.read_excel(reader, sheet_name = 'CustomerAddress', header = 1)"
   ]
  },
  {
   "cell_type": "code",
   "execution_count": 3,
   "metadata": {
    "scrolled": true
   },
   "outputs": [
    {
     "name": "stdout",
     "output_type": "stream",
     "text": [
      "<class 'pandas.core.frame.DataFrame'>\n",
      "RangeIndex: 20000 entries, 0 to 19999\n",
      "Data columns (total 13 columns):\n",
      " #   Column                   Non-Null Count  Dtype         \n",
      "---  ------                   --------------  -----         \n",
      " 0   transaction_id           20000 non-null  int64         \n",
      " 1   product_id               20000 non-null  int64         \n",
      " 2   customer_id              20000 non-null  int64         \n",
      " 3   transaction_date         20000 non-null  datetime64[ns]\n",
      " 4   online_order             19640 non-null  float64       \n",
      " 5   order_status             20000 non-null  object        \n",
      " 6   brand                    19803 non-null  object        \n",
      " 7   product_line             19803 non-null  object        \n",
      " 8   product_class            19803 non-null  object        \n",
      " 9   product_size             19803 non-null  object        \n",
      " 10  list_price               20000 non-null  float64       \n",
      " 11  standard_cost            19803 non-null  float64       \n",
      " 12  product_first_sold_date  19803 non-null  float64       \n",
      "dtypes: datetime64[ns](1), float64(4), int64(3), object(5)\n",
      "memory usage: 1.6+ MB\n"
     ]
    }
   ],
   "source": [
    "trans.info()"
   ]
  },
  {
   "cell_type": "code",
   "execution_count": 4,
   "metadata": {},
   "outputs": [
    {
     "data": {
      "text/plain": [
       "3494"
      ]
     },
     "execution_count": 4,
     "metadata": {},
     "output_type": "execute_result"
    }
   ],
   "source": [
    "trans.customer_id.nunique()"
   ]
  },
  {
   "cell_type": "code",
   "execution_count": 5,
   "metadata": {},
   "outputs": [
    {
     "name": "stdout",
     "output_type": "stream",
     "text": [
      "<class 'pandas.core.frame.DataFrame'>\n",
      "RangeIndex: 4000 entries, 0 to 3999\n",
      "Data columns (total 13 columns):\n",
      " #   Column                               Non-Null Count  Dtype         \n",
      "---  ------                               --------------  -----         \n",
      " 0   customer_id                          4000 non-null   int64         \n",
      " 1   first_name                           4000 non-null   object        \n",
      " 2   last_name                            3875 non-null   object        \n",
      " 3   gender                               4000 non-null   object        \n",
      " 4   past_3_years_bike_related_purchases  4000 non-null   int64         \n",
      " 5   DOB                                  3913 non-null   datetime64[ns]\n",
      " 6   job_title                            3494 non-null   object        \n",
      " 7   job_industry_category                3344 non-null   object        \n",
      " 8   wealth_segment                       4000 non-null   object        \n",
      " 9   deceased_indicator                   4000 non-null   object        \n",
      " 10  default                              3698 non-null   object        \n",
      " 11  owns_car                             4000 non-null   object        \n",
      " 12  tenure                               3913 non-null   float64       \n",
      "dtypes: datetime64[ns](1), float64(1), int64(2), object(9)\n",
      "memory usage: 265.7+ KB\n"
     ]
    }
   ],
   "source": [
    "cdem.info()"
   ]
  },
  {
   "cell_type": "code",
   "execution_count": 6,
   "metadata": {},
   "outputs": [
    {
     "name": "stdout",
     "output_type": "stream",
     "text": [
      "<class 'pandas.core.frame.DataFrame'>\n",
      "RangeIndex: 3999 entries, 0 to 3998\n",
      "Data columns (total 6 columns):\n",
      " #   Column              Non-Null Count  Dtype \n",
      "---  ------              --------------  ----- \n",
      " 0   customer_id         3999 non-null   int64 \n",
      " 1   address             3999 non-null   object\n",
      " 2   postcode            3999 non-null   int64 \n",
      " 3   state               3999 non-null   object\n",
      " 4   country             3999 non-null   object\n",
      " 5   property_valuation  3999 non-null   int64 \n",
      "dtypes: int64(3), object(3)\n",
      "memory usage: 140.7+ KB\n"
     ]
    }
   ],
   "source": [
    "cadd.info()"
   ]
  },
  {
   "cell_type": "code",
   "execution_count": 7,
   "metadata": {},
   "outputs": [
    {
     "data": {
      "text/plain": [
       "3494"
      ]
     },
     "execution_count": 7,
     "metadata": {},
     "output_type": "execute_result"
    }
   ],
   "source": [
    "trans.customer_id.nunique()"
   ]
  },
  {
   "cell_type": "code",
   "execution_count": 8,
   "metadata": {},
   "outputs": [
    {
     "data": {
      "text/plain": [
       "4000"
      ]
     },
     "execution_count": 8,
     "metadata": {},
     "output_type": "execute_result"
    }
   ],
   "source": [
    "cdem.customer_id.nunique()"
   ]
  },
  {
   "cell_type": "code",
   "execution_count": 9,
   "metadata": {},
   "outputs": [
    {
     "data": {
      "text/plain": [
       "3999"
      ]
     },
     "execution_count": 9,
     "metadata": {},
     "output_type": "execute_result"
    }
   ],
   "source": [
    "cadd.customer_id.nunique()"
   ]
  },
  {
   "cell_type": "markdown",
   "metadata": {},
   "source": [
    "### Merging the Datasets"
   ]
  },
  {
   "cell_type": "code",
   "execution_count": 10,
   "metadata": {},
   "outputs": [],
   "source": [
    "add_dem = pd.merge(cdem, cadd, on = 'customer_id', how = 'left')"
   ]
  },
  {
   "cell_type": "code",
   "execution_count": 11,
   "metadata": {},
   "outputs": [],
   "source": [
    "customers = pd.merge(add_dem, trans, on = 'customer_id', how = 'left')"
   ]
  },
  {
   "cell_type": "code",
   "execution_count": 12,
   "metadata": {},
   "outputs": [
    {
     "name": "stdout",
     "output_type": "stream",
     "text": [
      "<class 'pandas.core.frame.DataFrame'>\n",
      "Int64Index: 20504 entries, 0 to 20503\n",
      "Data columns (total 30 columns):\n",
      " #   Column                               Non-Null Count  Dtype         \n",
      "---  ------                               --------------  -----         \n",
      " 0   customer_id                          20504 non-null  int64         \n",
      " 1   first_name                           20504 non-null  object        \n",
      " 2   last_name                            19849 non-null  object        \n",
      " 3   gender                               20504 non-null  object        \n",
      " 4   past_3_years_bike_related_purchases  20504 non-null  int64         \n",
      " 5   DOB                                  20047 non-null  datetime64[ns]\n",
      " 6   job_title                            18027 non-null  object        \n",
      " 7   job_industry_category                17180 non-null  object        \n",
      " 8   wealth_segment                       20504 non-null  object        \n",
      " 9   deceased_indicator                   20504 non-null  object        \n",
      " 10  default                              19005 non-null  object        \n",
      " 11  owns_car                             20504 non-null  object        \n",
      " 12  tenure                               20047 non-null  float64       \n",
      " 13  address                              20475 non-null  object        \n",
      " 14  postcode                             20475 non-null  float64       \n",
      " 15  state                                20475 non-null  object        \n",
      " 16  country                              20475 non-null  object        \n",
      " 17  property_valuation                   20475 non-null  float64       \n",
      " 18  transaction_id                       19997 non-null  float64       \n",
      " 19  product_id                           19997 non-null  float64       \n",
      " 20  transaction_date                     19997 non-null  datetime64[ns]\n",
      " 21  online_order                         19637 non-null  float64       \n",
      " 22  order_status                         19997 non-null  object        \n",
      " 23  brand                                19800 non-null  object        \n",
      " 24  product_line                         19800 non-null  object        \n",
      " 25  product_class                        19800 non-null  object        \n",
      " 26  product_size                         19800 non-null  object        \n",
      " 27  list_price                           19997 non-null  float64       \n",
      " 28  standard_cost                        19800 non-null  float64       \n",
      " 29  product_first_sold_date              19800 non-null  float64       \n",
      "dtypes: datetime64[ns](2), float64(9), int64(2), object(17)\n",
      "memory usage: 3.5+ MB\n"
     ]
    }
   ],
   "source": [
    "customers.info()"
   ]
  },
  {
   "cell_type": "code",
   "execution_count": 13,
   "metadata": {},
   "outputs": [],
   "source": [
    "#Create an age column for the dataset\n",
    "\n",
    "import datetime as dt\n",
    "today = dt.datetime.today().year #current year\n",
    "customers['age'] = today - customers.DOB.dt.year"
   ]
  },
  {
   "cell_type": "code",
   "execution_count": 14,
   "metadata": {},
   "outputs": [
    {
     "name": "stdout",
     "output_type": "stream",
     "text": [
      "<class 'pandas.core.frame.DataFrame'>\n",
      "Int64Index: 20504 entries, 0 to 20503\n",
      "Data columns (total 31 columns):\n",
      " #   Column                               Non-Null Count  Dtype         \n",
      "---  ------                               --------------  -----         \n",
      " 0   customer_id                          20504 non-null  int64         \n",
      " 1   first_name                           20504 non-null  object        \n",
      " 2   last_name                            19849 non-null  object        \n",
      " 3   gender                               20504 non-null  object        \n",
      " 4   past_3_years_bike_related_purchases  20504 non-null  int64         \n",
      " 5   DOB                                  20047 non-null  datetime64[ns]\n",
      " 6   job_title                            18027 non-null  object        \n",
      " 7   job_industry_category                17180 non-null  object        \n",
      " 8   wealth_segment                       20504 non-null  object        \n",
      " 9   deceased_indicator                   20504 non-null  object        \n",
      " 10  default                              19005 non-null  object        \n",
      " 11  owns_car                             20504 non-null  object        \n",
      " 12  tenure                               20047 non-null  float64       \n",
      " 13  address                              20475 non-null  object        \n",
      " 14  postcode                             20475 non-null  float64       \n",
      " 15  state                                20475 non-null  object        \n",
      " 16  country                              20475 non-null  object        \n",
      " 17  property_valuation                   20475 non-null  float64       \n",
      " 18  transaction_id                       19997 non-null  float64       \n",
      " 19  product_id                           19997 non-null  float64       \n",
      " 20  transaction_date                     19997 non-null  datetime64[ns]\n",
      " 21  online_order                         19637 non-null  float64       \n",
      " 22  order_status                         19997 non-null  object        \n",
      " 23  brand                                19800 non-null  object        \n",
      " 24  product_line                         19800 non-null  object        \n",
      " 25  product_class                        19800 non-null  object        \n",
      " 26  product_size                         19800 non-null  object        \n",
      " 27  list_price                           19997 non-null  float64       \n",
      " 28  standard_cost                        19800 non-null  float64       \n",
      " 29  product_first_sold_date              19800 non-null  float64       \n",
      " 30  age                                  20047 non-null  float64       \n",
      "dtypes: datetime64[ns](2), float64(10), int64(2), object(17)\n",
      "memory usage: 3.7+ MB\n"
     ]
    }
   ],
   "source": [
    "customers.info()"
   ]
  },
  {
   "cell_type": "markdown",
   "metadata": {},
   "source": [
    "### Exploratory data analysis"
   ]
  },
  {
   "cell_type": "code",
   "execution_count": null,
   "metadata": {},
   "outputs": [],
   "source": []
  },
  {
   "cell_type": "code",
   "execution_count": null,
   "metadata": {},
   "outputs": [],
   "source": []
  },
  {
   "cell_type": "code",
   "execution_count": null,
   "metadata": {},
   "outputs": [],
   "source": []
  },
  {
   "cell_type": "code",
   "execution_count": null,
   "metadata": {},
   "outputs": [],
   "source": []
  },
  {
   "cell_type": "code",
   "execution_count": null,
   "metadata": {},
   "outputs": [],
   "source": []
  },
  {
   "cell_type": "code",
   "execution_count": null,
   "metadata": {},
   "outputs": [],
   "source": []
  },
  {
   "cell_type": "code",
   "execution_count": null,
   "metadata": {},
   "outputs": [],
   "source": []
  },
  {
   "cell_type": "code",
   "execution_count": null,
   "metadata": {},
   "outputs": [],
   "source": []
  },
  {
   "cell_type": "markdown",
   "metadata": {},
   "source": [
    "### Cleaning the customers dataset"
   ]
  },
  {
   "cell_type": "code",
   "execution_count": 15,
   "metadata": {},
   "outputs": [],
   "source": [
    "customers.drop(columns =['default', 'address', 'first_name', 'last_name', 'DOB', 'customer_id'], inplace = True, axis = 1)\n",
    "customers.drop(columns =['job_industry_category', 'job_title', 'transaction_id', 'transaction_date', 'product_id', 'product_first_sold_date'], inplace = True, axis = 1)"
   ]
  },
  {
   "cell_type": "code",
   "execution_count": 16,
   "metadata": {
    "scrolled": true
   },
   "outputs": [
    {
     "name": "stdout",
     "output_type": "stream",
     "text": [
      "<class 'pandas.core.frame.DataFrame'>\n",
      "Int64Index: 20504 entries, 0 to 20503\n",
      "Data columns (total 19 columns):\n",
      " #   Column                               Non-Null Count  Dtype  \n",
      "---  ------                               --------------  -----  \n",
      " 0   gender                               20504 non-null  object \n",
      " 1   past_3_years_bike_related_purchases  20504 non-null  int64  \n",
      " 2   wealth_segment                       20504 non-null  object \n",
      " 3   deceased_indicator                   20504 non-null  object \n",
      " 4   owns_car                             20504 non-null  object \n",
      " 5   tenure                               20047 non-null  float64\n",
      " 6   postcode                             20475 non-null  float64\n",
      " 7   state                                20475 non-null  object \n",
      " 8   country                              20475 non-null  object \n",
      " 9   property_valuation                   20475 non-null  float64\n",
      " 10  online_order                         19637 non-null  float64\n",
      " 11  order_status                         19997 non-null  object \n",
      " 12  brand                                19800 non-null  object \n",
      " 13  product_line                         19800 non-null  object \n",
      " 14  product_class                        19800 non-null  object \n",
      " 15  product_size                         19800 non-null  object \n",
      " 16  list_price                           19997 non-null  float64\n",
      " 17  standard_cost                        19800 non-null  float64\n",
      " 18  age                                  20047 non-null  float64\n",
      "dtypes: float64(7), int64(1), object(11)\n",
      "memory usage: 2.3+ MB\n"
     ]
    }
   ],
   "source": [
    "customers.info()"
   ]
  },
  {
   "cell_type": "code",
   "execution_count": 17,
   "metadata": {},
   "outputs": [
    {
     "data": {
      "text/plain": [
       "gender                                   0\n",
       "past_3_years_bike_related_purchases      0\n",
       "wealth_segment                           0\n",
       "deceased_indicator                       0\n",
       "owns_car                                 0\n",
       "tenure                                 457\n",
       "postcode                                29\n",
       "state                                   29\n",
       "country                                 29\n",
       "property_valuation                      29\n",
       "online_order                           867\n",
       "order_status                           507\n",
       "brand                                  704\n",
       "product_line                           704\n",
       "product_class                          704\n",
       "product_size                           704\n",
       "list_price                             507\n",
       "standard_cost                          704\n",
       "age                                    457\n",
       "dtype: int64"
      ]
     },
     "execution_count": 17,
     "metadata": {},
     "output_type": "execute_result"
    }
   ],
   "source": [
    "customers.isna().sum()"
   ]
  },
  {
   "cell_type": "code",
   "execution_count": 18,
   "metadata": {
    "scrolled": false
   },
   "outputs": [],
   "source": [
    "customers['age'].fillna(value = customers.age.mode()[0], inplace = True)\n",
    "customers['standard_cost'].fillna(value = customers.standard_cost.mode()[0], inplace = True)\n",
    "customers['list_price'].fillna(value = customers.list_price.mode()[0], inplace = True)\n",
    "customers['product_size'].fillna(value = customers.product_size.mode()[0], inplace = True)\n",
    "customers['product_line'].fillna(value = customers.product_line.mode()[0], inplace = True)\n",
    "customers['product_class'].fillna(value = customers.product_class.mode()[0], inplace = True)\n",
    "customers['brand'].fillna(value = customers.brand.mode()[0], inplace = True)\n",
    "customers['order_status'].fillna(value = customers.order_status.mode()[0], inplace = True)\n",
    "customers['online_order'].fillna(value = customers.online_order.mode()[0], inplace = True)\n",
    "customers['tenure'].fillna(value = customers.tenure.mode()[0], inplace = True)\n",
    "customers['property_valuation'].fillna(value = customers.property_valuation.mode()[0], inplace = True)"
   ]
  },
  {
   "cell_type": "code",
   "execution_count": 19,
   "metadata": {},
   "outputs": [
    {
     "name": "stdout",
     "output_type": "stream",
     "text": [
      "<class 'pandas.core.frame.DataFrame'>\n",
      "Int64Index: 20504 entries, 0 to 20503\n",
      "Data columns (total 19 columns):\n",
      " #   Column                               Non-Null Count  Dtype  \n",
      "---  ------                               --------------  -----  \n",
      " 0   gender                               20504 non-null  object \n",
      " 1   past_3_years_bike_related_purchases  20504 non-null  int64  \n",
      " 2   wealth_segment                       20504 non-null  object \n",
      " 3   deceased_indicator                   20504 non-null  object \n",
      " 4   owns_car                             20504 non-null  object \n",
      " 5   tenure                               20504 non-null  float64\n",
      " 6   postcode                             20475 non-null  float64\n",
      " 7   state                                20475 non-null  object \n",
      " 8   country                              20475 non-null  object \n",
      " 9   property_valuation                   20504 non-null  float64\n",
      " 10  online_order                         20504 non-null  float64\n",
      " 11  order_status                         20504 non-null  object \n",
      " 12  brand                                20504 non-null  object \n",
      " 13  product_line                         20504 non-null  object \n",
      " 14  product_class                        20504 non-null  object \n",
      " 15  product_size                         20504 non-null  object \n",
      " 16  list_price                           20504 non-null  float64\n",
      " 17  standard_cost                        20504 non-null  float64\n",
      " 18  age                                  20504 non-null  float64\n",
      "dtypes: float64(7), int64(1), object(11)\n",
      "memory usage: 2.3+ MB\n"
     ]
    }
   ],
   "source": [
    "customers.info()"
   ]
  },
  {
   "cell_type": "code",
   "execution_count": 20,
   "metadata": {},
   "outputs": [
    {
     "data": {
      "text/plain": [
       "array(['NSW', nan, 'QLD', 'VIC'], dtype=object)"
      ]
     },
     "execution_count": 20,
     "metadata": {},
     "output_type": "execute_result"
    }
   ],
   "source": [
    "customers.state.unique()\n",
    "\n",
    "customers.state.replace(to_replace = ['New South Wales'],value = ['NSW'], inplace = True)\n",
    "customers.state.replace(to_replace = ['Victoria'],value = ['VIC'], inplace = True)\n",
    "customers.state.unique()"
   ]
  },
  {
   "cell_type": "code",
   "execution_count": 21,
   "metadata": {},
   "outputs": [],
   "source": [
    "customers.state.fillna(customers.state.mode()[0], inplace = True)"
   ]
  },
  {
   "cell_type": "code",
   "execution_count": 22,
   "metadata": {
    "scrolled": true
   },
   "outputs": [
    {
     "data": {
      "text/plain": [
       "array(['Australia', nan], dtype=object)"
      ]
     },
     "execution_count": 22,
     "metadata": {},
     "output_type": "execute_result"
    }
   ],
   "source": [
    "customers.country.unique()"
   ]
  },
  {
   "cell_type": "code",
   "execution_count": 23,
   "metadata": {},
   "outputs": [
    {
     "ename": "ValueError",
     "evalue": "Replacement lists must match in length. Expecting 2 got 1 ",
     "output_type": "error",
     "traceback": [
      "\u001b[1;31m---------------------------------------------------------------------------\u001b[0m",
      "\u001b[1;31mValueError\u001b[0m                                Traceback (most recent call last)",
      "\u001b[1;32m<ipython-input-23-50c87ff677db>\u001b[0m in \u001b[0;36m<module>\u001b[1;34m\u001b[0m\n\u001b[0;32m      1\u001b[0m \u001b[0mcustomers\u001b[0m\u001b[1;33m.\u001b[0m\u001b[0mgender\u001b[0m\u001b[1;33m.\u001b[0m\u001b[0munique\u001b[0m\u001b[1;33m(\u001b[0m\u001b[1;33m)\u001b[0m\u001b[1;33m\u001b[0m\u001b[1;33m\u001b[0m\u001b[0m\n\u001b[0;32m      2\u001b[0m \u001b[1;33m\u001b[0m\u001b[0m\n\u001b[1;32m----> 3\u001b[1;33m \u001b[0mcustomers\u001b[0m\u001b[1;33m.\u001b[0m\u001b[0mgender\u001b[0m\u001b[1;33m.\u001b[0m\u001b[0mreplace\u001b[0m\u001b[1;33m(\u001b[0m\u001b[0mto_replace\u001b[0m \u001b[1;33m=\u001b[0m \u001b[1;33m[\u001b[0m\u001b[1;34m'Male'\u001b[0m\u001b[1;33m,\u001b[0m \u001b[1;34m'U'\u001b[0m\u001b[1;33m]\u001b[0m\u001b[1;33m,\u001b[0m\u001b[0mvalue\u001b[0m \u001b[1;33m=\u001b[0m \u001b[1;33m[\u001b[0m\u001b[1;34m'M'\u001b[0m\u001b[1;33m]\u001b[0m\u001b[1;33m,\u001b[0m \u001b[0minplace\u001b[0m \u001b[1;33m=\u001b[0m \u001b[1;32mTrue\u001b[0m\u001b[1;33m)\u001b[0m\u001b[1;33m\u001b[0m\u001b[1;33m\u001b[0m\u001b[0m\n\u001b[0m\u001b[0;32m      4\u001b[0m \u001b[0mcustomers\u001b[0m\u001b[1;33m.\u001b[0m\u001b[0mgender\u001b[0m\u001b[1;33m.\u001b[0m\u001b[0mreplace\u001b[0m\u001b[1;33m(\u001b[0m\u001b[0mto_replace\u001b[0m \u001b[1;33m=\u001b[0m \u001b[1;33m[\u001b[0m\u001b[1;34m'Female'\u001b[0m\u001b[1;33m,\u001b[0m \u001b[1;34m'Femal'\u001b[0m\u001b[1;33m]\u001b[0m\u001b[1;33m,\u001b[0m\u001b[0mvalue\u001b[0m \u001b[1;33m=\u001b[0m \u001b[1;33m[\u001b[0m\u001b[1;34m'F'\u001b[0m\u001b[1;33m]\u001b[0m\u001b[1;33m,\u001b[0m \u001b[0minplace\u001b[0m \u001b[1;33m=\u001b[0m \u001b[1;32mTrue\u001b[0m\u001b[1;33m)\u001b[0m\u001b[1;33m\u001b[0m\u001b[1;33m\u001b[0m\u001b[0m\n",
      "\u001b[1;32mc:\\program files (x86)\\python38-32\\lib\\site-packages\\pandas\\core\\series.py\u001b[0m in \u001b[0;36mreplace\u001b[1;34m(self, to_replace, value, inplace, limit, regex, method)\u001b[0m\n\u001b[0;32m   4170\u001b[0m         \u001b[0mmethod\u001b[0m\u001b[1;33m=\u001b[0m\u001b[1;34m\"pad\"\u001b[0m\u001b[1;33m,\u001b[0m\u001b[1;33m\u001b[0m\u001b[1;33m\u001b[0m\u001b[0m\n\u001b[0;32m   4171\u001b[0m     ):\n\u001b[1;32m-> 4172\u001b[1;33m         return super().replace(\n\u001b[0m\u001b[0;32m   4173\u001b[0m             \u001b[0mto_replace\u001b[0m\u001b[1;33m=\u001b[0m\u001b[0mto_replace\u001b[0m\u001b[1;33m,\u001b[0m\u001b[1;33m\u001b[0m\u001b[1;33m\u001b[0m\u001b[0m\n\u001b[0;32m   4174\u001b[0m             \u001b[0mvalue\u001b[0m\u001b[1;33m=\u001b[0m\u001b[0mvalue\u001b[0m\u001b[1;33m,\u001b[0m\u001b[1;33m\u001b[0m\u001b[1;33m\u001b[0m\u001b[0m\n",
      "\u001b[1;32mc:\\program files (x86)\\python38-32\\lib\\site-packages\\pandas\\core\\generic.py\u001b[0m in \u001b[0;36mreplace\u001b[1;34m(self, to_replace, value, inplace, limit, regex, method)\u001b[0m\n\u001b[0;32m   6688\u001b[0m                 \u001b[1;32mif\u001b[0m \u001b[0mis_list_like\u001b[0m\u001b[1;33m(\u001b[0m\u001b[0mvalue\u001b[0m\u001b[1;33m)\u001b[0m\u001b[1;33m:\u001b[0m\u001b[1;33m\u001b[0m\u001b[1;33m\u001b[0m\u001b[0m\n\u001b[0;32m   6689\u001b[0m                     \u001b[1;32mif\u001b[0m \u001b[0mlen\u001b[0m\u001b[1;33m(\u001b[0m\u001b[0mto_replace\u001b[0m\u001b[1;33m)\u001b[0m \u001b[1;33m!=\u001b[0m \u001b[0mlen\u001b[0m\u001b[1;33m(\u001b[0m\u001b[0mvalue\u001b[0m\u001b[1;33m)\u001b[0m\u001b[1;33m:\u001b[0m\u001b[1;33m\u001b[0m\u001b[1;33m\u001b[0m\u001b[0m\n\u001b[1;32m-> 6690\u001b[1;33m                         raise ValueError(\n\u001b[0m\u001b[0;32m   6691\u001b[0m                             \u001b[1;34mf\"Replacement lists must match in length. \"\u001b[0m\u001b[1;33m\u001b[0m\u001b[1;33m\u001b[0m\u001b[0m\n\u001b[0;32m   6692\u001b[0m                             \u001b[1;34mf\"Expecting {len(to_replace)} got {len(value)} \"\u001b[0m\u001b[1;33m\u001b[0m\u001b[1;33m\u001b[0m\u001b[0m\n",
      "\u001b[1;31mValueError\u001b[0m: Replacement lists must match in length. Expecting 2 got 1 "
     ]
    }
   ],
   "source": [
    "customers.gender.unique()\n",
    "\n",
    "customers.gender.replace(to_replace = ['Male', 'U'],value = ['M'], inplace = True)\n",
    "customers.gender.replace(to_replace = ['Female', 'Femal'],value = ['F'], inplace = True)"
   ]
  },
  {
   "cell_type": "code",
   "execution_count": null,
   "metadata": {},
   "outputs": [],
   "source": []
  },
  {
   "cell_type": "code",
   "execution_count": null,
   "metadata": {},
   "outputs": [],
   "source": [
    "customers.drop(columns =['country', 'postcode'], inplace = True, axis = 1)"
   ]
  },
  {
   "cell_type": "code",
   "execution_count": null,
   "metadata": {},
   "outputs": [],
   "source": [
    "customers.info()"
   ]
  },
  {
   "cell_type": "code",
   "execution_count": null,
   "metadata": {},
   "outputs": [],
   "source": [
    "customers.head()"
   ]
  },
  {
   "cell_type": "markdown",
   "metadata": {},
   "source": [
    "### EDA of the clean Dataset"
   ]
  },
  {
   "cell_type": "code",
   "execution_count": null,
   "metadata": {},
   "outputs": [],
   "source": [
    "customers.age.hist()"
   ]
  },
  {
   "cell_type": "code",
   "execution_count": null,
   "metadata": {},
   "outputs": [],
   "source": [
    "customers.gender.value_counts().plot.barh()"
   ]
  },
  {
   "cell_type": "code",
   "execution_count": null,
   "metadata": {},
   "outputs": [],
   "source": []
  },
  {
   "cell_type": "code",
   "execution_count": null,
   "metadata": {},
   "outputs": [],
   "source": []
  },
  {
   "cell_type": "code",
   "execution_count": null,
   "metadata": {},
   "outputs": [],
   "source": []
  }
 ],
 "metadata": {
  "kernelspec": {
   "display_name": "Python 3",
   "language": "python",
   "name": "python3"
  },
  "language_info": {
   "codemirror_mode": {
    "name": "ipython",
    "version": 3
   },
   "file_extension": ".py",
   "mimetype": "text/x-python",
   "name": "python",
   "nbconvert_exporter": "python",
   "pygments_lexer": "ipython3",
   "version": "3.8.1"
  }
 },
 "nbformat": 4,
 "nbformat_minor": 4
}
