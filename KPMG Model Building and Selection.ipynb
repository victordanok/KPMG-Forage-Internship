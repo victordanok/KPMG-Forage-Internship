{
 "cells": [
  {
   "cell_type": "code",
   "execution_count": 1,
   "metadata": {},
   "outputs": [],
   "source": [
    "import numpy as np\n",
    "import pandas as pd\n"
   ]
  },
  {
   "cell_type": "code",
   "execution_count": 2,
   "metadata": {},
   "outputs": [],
   "source": [
    "data = pd.read_csv('kpmg_encoded.csv')"
   ]
  },
  {
   "cell_type": "code",
   "execution_count": 3,
   "metadata": {},
   "outputs": [
    {
     "name": "stdout",
     "output_type": "stream",
     "text": [
      "<class 'pandas.core.frame.DataFrame'>\n",
      "RangeIndex: 20495 entries, 0 to 20494\n",
      "Data columns (total 33 columns):\n",
      " #   Column                               Non-Null Count  Dtype  \n",
      "---  ------                               --------------  -----  \n",
      " 0   past_3_years_bike_related_purchases  20495 non-null  int64  \n",
      " 1   owns_car                             20495 non-null  int64  \n",
      " 2   tenure                               20495 non-null  float64\n",
      " 3   property_valuation                   20495 non-null  float64\n",
      " 4   online_order                         20495 non-null  float64\n",
      " 5   order_status                         20495 non-null  int64  \n",
      " 6   list_price                           20495 non-null  float64\n",
      " 7   standard_cost                        20495 non-null  float64\n",
      " 8   age                                  20495 non-null  float64\n",
      " 9   F                                    20495 non-null  int64  \n",
      " 10  M                                    20495 non-null  int64  \n",
      " 11  Affluent Customer                    20495 non-null  int64  \n",
      " 12  High Net Worth                       20495 non-null  int64  \n",
      " 13  Mass Customer                        20495 non-null  int64  \n",
      " 14  NSW                                  20495 non-null  int64  \n",
      " 15  QLD                                  20495 non-null  int64  \n",
      " 16  VIC                                  20495 non-null  int64  \n",
      " 17  Giant Bicycles                       20495 non-null  int64  \n",
      " 18  Norco Bicycles                       20495 non-null  int64  \n",
      " 19  OHM Cycles                           20495 non-null  int64  \n",
      " 20  Solex                                20495 non-null  int64  \n",
      " 21  Trek Bicycles                        20495 non-null  int64  \n",
      " 22  WeareA2B                             20495 non-null  int64  \n",
      " 23  Mountain                             20495 non-null  int64  \n",
      " 24  Road                                 20495 non-null  int64  \n",
      " 25  Standard                             20495 non-null  int64  \n",
      " 26  Touring                              20495 non-null  int64  \n",
      " 27  high                                 20495 non-null  int64  \n",
      " 28  low                                  20495 non-null  int64  \n",
      " 29  medium                               20495 non-null  int64  \n",
      " 30  large                                20495 non-null  int64  \n",
      " 31  medium.1                             20495 non-null  int64  \n",
      " 32  small                                20495 non-null  int64  \n",
      "dtypes: float64(6), int64(27)\n",
      "memory usage: 5.2 MB\n"
     ]
    }
   ],
   "source": [
    "data.info()"
   ]
  },
  {
   "cell_type": "code",
   "execution_count": 4,
   "metadata": {},
   "outputs": [],
   "source": [
    "#selecting the dependent and independent variables\n",
    "\n",
    "x = data.loc[:, data.columns != 'order_status']\n",
    "y = data.iloc[:,5].values"
   ]
  },
  {
   "cell_type": "code",
   "execution_count": null,
   "metadata": {},
   "outputs": [],
   "source": []
  },
  {
   "cell_type": "code",
   "execution_count": null,
   "metadata": {},
   "outputs": [],
   "source": []
  },
  {
   "cell_type": "code",
   "execution_count": null,
   "metadata": {},
   "outputs": [],
   "source": []
  },
  {
   "cell_type": "code",
   "execution_count": null,
   "metadata": {},
   "outputs": [],
   "source": []
  }
 ],
 "metadata": {
  "kernelspec": {
   "display_name": "Python 3",
   "language": "python",
   "name": "python3"
  },
  "language_info": {
   "codemirror_mode": {
    "name": "ipython",
    "version": 3
   },
   "file_extension": ".py",
   "mimetype": "text/x-python",
   "name": "python",
   "nbconvert_exporter": "python",
   "pygments_lexer": "ipython3",
   "version": "3.8.1"
  }
 },
 "nbformat": 4,
 "nbformat_minor": 4
}
