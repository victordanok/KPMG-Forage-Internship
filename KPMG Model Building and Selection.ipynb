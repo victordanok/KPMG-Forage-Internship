{
 "cells": [
  {
   "cell_type": "code",
   "execution_count": 1,
   "metadata": {},
   "outputs": [],
   "source": [
    "import numpy as np\n",
    "import pandas as pd\n"
   ]
  },
  {
   "cell_type": "code",
   "execution_count": 2,
   "metadata": {},
   "outputs": [],
   "source": [
    "data = pd.read_csv('kpmg_encoded.csv')"
   ]
  },
  {
   "cell_type": "code",
   "execution_count": 3,
   "metadata": {
    "scrolled": true
   },
   "outputs": [
    {
     "name": "stdout",
     "output_type": "stream",
     "text": [
      "<class 'pandas.core.frame.DataFrame'>\n",
      "RangeIndex: 20495 entries, 0 to 20494\n",
      "Data columns (total 33 columns):\n",
      " #   Column                               Non-Null Count  Dtype  \n",
      "---  ------                               --------------  -----  \n",
      " 0   past_3_years_bike_related_purchases  20495 non-null  int64  \n",
      " 1   owns_car                             20495 non-null  int64  \n",
      " 2   tenure                               20495 non-null  float64\n",
      " 3   property_valuation                   20495 non-null  float64\n",
      " 4   online_order                         20495 non-null  float64\n",
      " 5   order_status                         20495 non-null  int64  \n",
      " 6   list_price                           20495 non-null  float64\n",
      " 7   standard_cost                        20495 non-null  float64\n",
      " 8   age                                  20495 non-null  float64\n",
      " 9   F                                    20495 non-null  int64  \n",
      " 10  M                                    20495 non-null  int64  \n",
      " 11  Affluent Customer                    20495 non-null  int64  \n",
      " 12  High Net Worth                       20495 non-null  int64  \n",
      " 13  Mass Customer                        20495 non-null  int64  \n",
      " 14  NSW                                  20495 non-null  int64  \n",
      " 15  QLD                                  20495 non-null  int64  \n",
      " 16  VIC                                  20495 non-null  int64  \n",
      " 17  Giant Bicycles                       20495 non-null  int64  \n",
      " 18  Norco Bicycles                       20495 non-null  int64  \n",
      " 19  OHM Cycles                           20495 non-null  int64  \n",
      " 20  Solex                                20495 non-null  int64  \n",
      " 21  Trek Bicycles                        20495 non-null  int64  \n",
      " 22  WeareA2B                             20495 non-null  int64  \n",
      " 23  Mountain                             20495 non-null  int64  \n",
      " 24  Road                                 20495 non-null  int64  \n",
      " 25  Standard                             20495 non-null  int64  \n",
      " 26  Touring                              20495 non-null  int64  \n",
      " 27  high                                 20495 non-null  int64  \n",
      " 28  low                                  20495 non-null  int64  \n",
      " 29  medium                               20495 non-null  int64  \n",
      " 30  large                                20495 non-null  int64  \n",
      " 31  medium.1                             20495 non-null  int64  \n",
      " 32  small                                20495 non-null  int64  \n",
      "dtypes: float64(6), int64(27)\n",
      "memory usage: 5.2 MB\n"
     ]
    }
   ],
   "source": [
    "data.info()"
   ]
  },
  {
   "cell_type": "code",
   "execution_count": 4,
   "metadata": {},
   "outputs": [],
   "source": [
    "#selecting the dependent and independent variables\n",
    "\n",
    "x = data.loc[:, data.columns != 'order_status']\n",
    "y = data.iloc[:,5].values"
   ]
  },
  {
   "cell_type": "code",
   "execution_count": 5,
   "metadata": {},
   "outputs": [],
   "source": [
    "from sklearn.model_selection import train_test_split\n",
    "x_train, x_test, y_train, y_test = train_test_split(x, y, test_size =0.3, random_state = 42)"
   ]
  },
  {
   "cell_type": "code",
   "execution_count": 6,
   "metadata": {},
   "outputs": [],
   "source": [
    "#FEATURE SCALING\n",
    "\n",
    "from sklearn.preprocessing import StandardScaler\n",
    "stanscaler = StandardScaler()\n",
    "x_train = stanscaler.fit_transform(x_train)\n",
    "x_test = stanscaler.transform(x_test)"
   ]
  },
  {
   "cell_type": "markdown",
   "metadata": {},
   "source": [
    "### SMOTE Oversampling\n"
   ]
  },
  {
   "cell_type": "code",
   "execution_count": 7,
   "metadata": {},
   "outputs": [
    {
     "name": "stdout",
     "output_type": "stream",
     "text": [
      "Before Oversampling, count of labels \"1\": 14221\n",
      "Before Oversampling, count of labels \"0\": 125\n"
     ]
    }
   ],
   "source": [
    "#class label count after oversampling\n",
    "\n",
    "print('Before Oversampling, count of labels \"1\": {}'.format(sum(y_train == 1)))\n",
    "print('Before Oversampling, count of labels \"0\": {}'.format(sum(y_train == 0)))"
   ]
  },
  {
   "cell_type": "code",
   "execution_count": 8,
   "metadata": {},
   "outputs": [],
   "source": [
    "from imblearn.over_sampling import SMOTE\n",
    "\n",
    "sm = SMOTE(random_state = 2)\n",
    "x_train_res, y_train_res = sm.fit_resample(x_train, y_train.ravel())"
   ]
  },
  {
   "cell_type": "code",
   "execution_count": 9,
   "metadata": {},
   "outputs": [
    {
     "name": "stdout",
     "output_type": "stream",
     "text": [
      "After Oversampling, count of labels \"1\": 14221\n",
      "After Oversampling, count of labels \"0\": 14221\n"
     ]
    }
   ],
   "source": [
    "\n",
    "print('After Oversampling, count of labels \"1\": {}'.format(sum(y_train_res == 1)))\n",
    "print('After Oversampling, count of labels \"0\": {}'.format(sum(y_train_res == 0)))"
   ]
  },
  {
   "cell_type": "code",
   "execution_count": null,
   "metadata": {},
   "outputs": [],
   "source": []
  },
  {
   "cell_type": "markdown",
   "metadata": {},
   "source": [
    "### Logistic Regression"
   ]
  },
  {
   "cell_type": "code",
   "execution_count": 10,
   "metadata": {},
   "outputs": [
    {
     "data": {
      "text/plain": [
       "LogisticRegression(random_state=0)"
      ]
     },
     "execution_count": 10,
     "metadata": {},
     "output_type": "execute_result"
    }
   ],
   "source": [
    "from sklearn.linear_model import LogisticRegression\n",
    "\n",
    "lr = LogisticRegression(random_state = 0)\n",
    "lr.fit(x_train_res, y_train_res)"
   ]
  },
  {
   "cell_type": "code",
   "execution_count": 11,
   "metadata": {},
   "outputs": [
    {
     "data": {
      "text/plain": [
       "array([0, 0, 1, ..., 1, 1, 1], dtype=int64)"
      ]
     },
     "execution_count": 11,
     "metadata": {},
     "output_type": "execute_result"
    }
   ],
   "source": [
    "predlr_y = lr.predict(x_test)\n",
    "predlr_y"
   ]
  },
  {
   "cell_type": "code",
   "execution_count": 12,
   "metadata": {
    "scrolled": true
   },
   "outputs": [
    {
     "name": "stdout",
     "output_type": "stream",
     "text": [
      "              precision    recall  f1-score   support\n",
      "\n",
      "           0       0.01      0.33      0.01        54\n",
      "           1       0.99      0.57      0.73      6095\n",
      "\n",
      "    accuracy                           0.57      6149\n",
      "   macro avg       0.50      0.45      0.37      6149\n",
      "weighted avg       0.98      0.57      0.72      6149\n",
      "\n"
     ]
    }
   ],
   "source": [
    "from sklearn.metrics import classification_report\n",
    "\n",
    "print(classification_report(y_test, predlr_y))"
   ]
  },
  {
   "cell_type": "markdown",
   "metadata": {},
   "source": [
    "### Bagging Classifier"
   ]
  },
  {
   "cell_type": "code",
   "execution_count": 13,
   "metadata": {},
   "outputs": [
    {
     "data": {
      "text/plain": [
       "BaggingClassifier()"
      ]
     },
     "execution_count": 13,
     "metadata": {},
     "output_type": "execute_result"
    }
   ],
   "source": [
    "from sklearn.ensemble import BaggingClassifier\n",
    "\n",
    "bg = BaggingClassifier()\n",
    "bg.fit(x_train_res, y_train_res)"
   ]
  },
  {
   "cell_type": "code",
   "execution_count": 14,
   "metadata": {},
   "outputs": [
    {
     "data": {
      "text/plain": [
       "array([1, 1, 1, ..., 1, 1, 1], dtype=int64)"
      ]
     },
     "execution_count": 14,
     "metadata": {},
     "output_type": "execute_result"
    }
   ],
   "source": [
    "predbg_y = bg.predict(x_test)\n",
    "predbg_y"
   ]
  },
  {
   "cell_type": "code",
   "execution_count": 15,
   "metadata": {},
   "outputs": [
    {
     "name": "stdout",
     "output_type": "stream",
     "text": [
      "              precision    recall  f1-score   support\n",
      "\n",
      "           0       0.02      0.02      0.02        54\n",
      "           1       0.99      0.99      0.99      6095\n",
      "\n",
      "    accuracy                           0.98      6149\n",
      "   macro avg       0.51      0.51      0.51      6149\n",
      "weighted avg       0.98      0.98      0.98      6149\n",
      "\n"
     ]
    }
   ],
   "source": [
    "print(classification_report(y_test, predbg_y))"
   ]
  },
  {
   "cell_type": "markdown",
   "metadata": {},
   "source": [
    "### Random Forest"
   ]
  },
  {
   "cell_type": "code",
   "execution_count": 16,
   "metadata": {},
   "outputs": [
    {
     "data": {
      "text/plain": [
       "RandomForestClassifier(n_estimators=850)"
      ]
     },
     "execution_count": 16,
     "metadata": {},
     "output_type": "execute_result"
    }
   ],
   "source": [
    "from sklearn.ensemble import RandomForestClassifier\n",
    "\n",
    "rfc = RandomForestClassifier(n_estimators = 850)\n",
    "rfc.fit(x_train_res, y_train_res.ravel())"
   ]
  },
  {
   "cell_type": "code",
   "execution_count": 17,
   "metadata": {},
   "outputs": [
    {
     "data": {
      "text/plain": [
       "array([1, 1, 1, ..., 1, 1, 1], dtype=int64)"
      ]
     },
     "execution_count": 17,
     "metadata": {},
     "output_type": "execute_result"
    }
   ],
   "source": [
    "predrfc_y = rfc.predict(x_test)\n",
    "predrfc_y"
   ]
  },
  {
   "cell_type": "code",
   "execution_count": 18,
   "metadata": {},
   "outputs": [
    {
     "name": "stdout",
     "output_type": "stream",
     "text": [
      "              precision    recall  f1-score   support\n",
      "\n",
      "           0       0.17      0.02      0.03        54\n",
      "           1       0.99      1.00      1.00      6095\n",
      "\n",
      "    accuracy                           0.99      6149\n",
      "   macro avg       0.58      0.51      0.51      6149\n",
      "weighted avg       0.98      0.99      0.99      6149\n",
      "\n"
     ]
    }
   ],
   "source": [
    "print(classification_report(y_test, predrfc_y))"
   ]
  },
  {
   "cell_type": "markdown",
   "metadata": {},
   "source": [
    "### Naive Bayes"
   ]
  },
  {
   "cell_type": "code",
   "execution_count": 19,
   "metadata": {},
   "outputs": [
    {
     "data": {
      "text/plain": [
       "GaussianNB()"
      ]
     },
     "execution_count": 19,
     "metadata": {},
     "output_type": "execute_result"
    }
   ],
   "source": [
    "from sklearn.naive_bayes import GaussianNB\n",
    "nb = GaussianNB()\n",
    "nb.fit(x_train_res, y_train_res)"
   ]
  },
  {
   "cell_type": "code",
   "execution_count": 20,
   "metadata": {},
   "outputs": [
    {
     "data": {
      "text/plain": [
       "array([0, 0, 1, ..., 1, 1, 1], dtype=int64)"
      ]
     },
     "execution_count": 20,
     "metadata": {},
     "output_type": "execute_result"
    }
   ],
   "source": [
    "prednb_y = nb.predict(x_test)\n",
    "prednb_y"
   ]
  },
  {
   "cell_type": "code",
   "execution_count": 21,
   "metadata": {},
   "outputs": [
    {
     "name": "stdout",
     "output_type": "stream",
     "text": [
      "              precision    recall  f1-score   support\n",
      "\n",
      "           0       0.01      0.56      0.02        54\n",
      "           1       0.99      0.52      0.68      6095\n",
      "\n",
      "    accuracy                           0.52      6149\n",
      "   macro avg       0.50      0.54      0.35      6149\n",
      "weighted avg       0.98      0.52      0.68      6149\n",
      "\n"
     ]
    }
   ],
   "source": [
    "print(classification_report(y_test, prednb_y))"
   ]
  },
  {
   "cell_type": "markdown",
   "metadata": {},
   "source": [
    "### Support Vector Machine Algorithm"
   ]
  },
  {
   "cell_type": "code",
   "execution_count": 22,
   "metadata": {},
   "outputs": [
    {
     "data": {
      "text/plain": [
       "SVC(kernel='linear', random_state=0)"
      ]
     },
     "execution_count": 22,
     "metadata": {},
     "output_type": "execute_result"
    }
   ],
   "source": [
    "from sklearn.svm import SVC\n",
    "\n",
    "svc = SVC(kernel = 'linear', random_state = 0)\n",
    "svc.fit(x_train_res, y_train_res)"
   ]
  },
  {
   "cell_type": "code",
   "execution_count": 23,
   "metadata": {},
   "outputs": [],
   "source": [
    "predsvc_y = svc.predict(x_test)"
   ]
  },
  {
   "cell_type": "code",
   "execution_count": 24,
   "metadata": {},
   "outputs": [
    {
     "name": "stdout",
     "output_type": "stream",
     "text": [
      "              precision    recall  f1-score   support\n",
      "\n",
      "           0       0.01      0.43      0.01        54\n",
      "           1       0.99      0.51      0.67      6095\n",
      "\n",
      "    accuracy                           0.51      6149\n",
      "   macro avg       0.50      0.47      0.34      6149\n",
      "weighted avg       0.98      0.51      0.67      6149\n",
      "\n"
     ]
    }
   ],
   "source": [
    "print(classification_report(y_test, predsvc_y))"
   ]
  },
  {
   "cell_type": "code",
   "execution_count": null,
   "metadata": {},
   "outputs": [],
   "source": []
  }
 ],
 "metadata": {
  "kernelspec": {
   "display_name": "Python 3",
   "language": "python",
   "name": "python3"
  },
  "language_info": {
   "codemirror_mode": {
    "name": "ipython",
    "version": 3
   },
   "file_extension": ".py",
   "mimetype": "text/x-python",
   "name": "python",
   "nbconvert_exporter": "python",
   "pygments_lexer": "ipython3",
   "version": "3.8.1"
  }
 },
 "nbformat": 4,
 "nbformat_minor": 4
}
